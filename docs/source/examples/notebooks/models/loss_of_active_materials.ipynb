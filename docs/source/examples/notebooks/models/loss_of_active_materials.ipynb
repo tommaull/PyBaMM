{
 "cells": [
  {
   "cell_type": "markdown",
   "metadata": {},
   "source": [
    "# Loss of active material submodels\n",
    "In this notebook we show how to use the loss of active materials (LAM) submodels in PyBaMM. \n",
    "\n",
    "## Stress-driven LAM\n",
    "The first model we consider is the stress-driven submodel, which follows equation (25) from [Reniers et al (2019)](https://iopscience.iop.org/article/10.1149/2.0281914jes/meta), and the stresses are calculated by equations (7)-(9) in [Ai et al (2020)](https://iopscience.iop.org/article/10.1149/2.0122001JES/meta). To see all of the models and submodels available in PyBaMM, please take a look at the [documentation](https://docs.pybamm.org).\n",
    "\n",
    "As usual, we start by defining the model. We choose a DFN model with stress-driven loss of active material, and we also include SEI growth. We then define the parameters and experiments, and solve the simulation."
   ]
  },
  {
   "cell_type": "code",
   "execution_count": 1,
   "metadata": {},
   "outputs": [
    {
     "name": "stdout",
     "output_type": "stream",
     "text": [
      "Note: you may need to restart the kernel to use updated packages.\n"
     ]
    },
    {
     "name": "stderr",
     "output_type": "stream",
     "text": [
      "At t = 57.3387, , mxstep steps taken before reaching tout.\n",
      "At t = 57.3387 and h = 7.05477e-15, the corrector convergence failed repeatedly or with |h| = hmin.\n",
      "At t = 57.3387, , mxstep steps taken before reaching tout.\n",
      "At t = 57.3387, , mxstep steps taken before reaching tout.\n"
     ]
    }
   ],
   "source": [
    "%pip install \"pybamm[plot,cite]\" -q    # install PyBaMM if it is not installed\n",
    "import pybamm\n",
    "\n",
    "model = pybamm.lithium_ion.DFN(\n",
    "    options={\n",
    "        \"SEI\": \"solvent-diffusion limited\",\n",
    "        \"SEI porosity change\": \"false\",\n",
    "        \"particle mechanics\": \"swelling only\",\n",
    "        \"loss of active material\": \"stress-driven\",\n",
    "    }\n",
    ")\n",
    "param = pybamm.ParameterValues(\"Ai2020\")\n",
    "param.update({\"Negative electrode LAM constant proportional term [s-1]\": 1e-4 / 3600})\n",
    "param.update({\"Positive electrode LAM constant proportional term [s-1]\": 1e-4 / 3600})\n",
    "experiment = pybamm.Experiment(\n",
    "    [\n",
    "        \"Discharge at 1C until 3 V\",\n",
    "        \"Rest for 600 seconds\",\n",
    "        \"Charge at 1C until 4.2 V\",\n",
    "        \"Hold at 4.199 V for 600 seconds\",\n",
    "    ]\n",
    ")\n",
    "sim = pybamm.Simulation(\n",
    "    model,\n",
    "    experiment=experiment,\n",
    "    parameter_values=param,\n",
    ")\n",
    "solution = sim.solve(calc_esoh=False)"
   ]
  },
  {
   "cell_type": "markdown",
   "metadata": {},
   "source": [
    "We can now plot the results as usual."
   ]
  },
  {
   "cell_type": "code",
   "execution_count": 2,
   "metadata": {},
   "outputs": [
    {
     "data": {
      "application/vnd.jupyter.widget-view+json": {
       "model_id": "d3d8dcb00eb7421a83a4655bfd8e1245",
       "version_major": 2,
       "version_minor": 0
      },
      "text/plain": [
       "interactive(children=(FloatSlider(value=0.0, description='t', max=2.329196798170269, step=0.02329196798170269)…"
      ]
     },
     "metadata": {},
     "output_type": "display_data"
    },
    {
     "data": {
      "text/plain": [
       "<pybamm.plotting.quick_plot.QuickPlot at 0x169320050>"
      ]
     },
     "execution_count": 2,
     "metadata": {},
     "output_type": "execute_result"
    }
   ],
   "source": [
    "sim.plot(\n",
    "    [\n",
    "        \"Voltage [V]\",\n",
    "        \"Current [A]\",\n",
    "        \"Sum of x-averaged positive electrode volumetric interfacial current densities [A.m-3]\",\n",
    "        \"Sum of x-averaged negative electrode volumetric interfacial current densities [A.m-3]\",\n",
    "        \"X-averaged positive electrode active material volume fraction\",\n",
    "        \"X-averaged negative electrode active material volume fraction\",\n",
    "        \"X-averaged positive particle surface tangential stress [Pa]\",\n",
    "        \"X-averaged negative particle surface tangential stress [Pa]\",\n",
    "    ]\n",
    ")"
   ]
  },
  {
   "cell_type": "markdown",
   "metadata": {},
   "source": [
    "To understand the effect of the LAM constant proportional term, let's perform a parameter sweep."
   ]
  },
  {
   "cell_type": "code",
   "execution_count": 3,
   "metadata": {},
   "outputs": [
    {
     "name": "stderr",
     "output_type": "stream",
     "text": [
      "At t = 57.3387, , mxstep steps taken before reaching tout.\n",
      "At t = 57.3387 and h = 7.05477e-15, the corrector convergence failed repeatedly or with |h| = hmin.\n",
      "At t = 57.3387, , mxstep steps taken before reaching tout.\n",
      "At t = 57.3387, , mxstep steps taken before reaching tout.\n",
      "At t = 57.3307, , mxstep steps taken before reaching tout.\n",
      "At t = 57.3307, , mxstep steps taken before reaching tout.\n",
      "At t = 57.3307, , mxstep steps taken before reaching tout.\n",
      "At t = 57.3307, , mxstep steps taken before reaching tout.\n",
      "At t = 57.2504, , mxstep steps taken before reaching tout.\n",
      "At t = 57.2504, , mxstep steps taken before reaching tout.\n",
      "At t = 57.2504, , mxstep steps taken before reaching tout.\n",
      "At t = 57.2504, , mxstep steps taken before reaching tout.\n"
     ]
    },
    {
     "data": {
      "application/vnd.jupyter.widget-view+json": {
       "model_id": "6e6d0630770b475893301455ac4910c7",
       "version_major": 2,
       "version_minor": 0
      },
      "text/plain": [
       "interactive(children=(FloatSlider(value=0.0, description='t', max=2.329196798170269, step=0.02329196798170269)…"
      ]
     },
     "metadata": {},
     "output_type": "display_data"
    },
    {
     "data": {
      "text/plain": [
       "<pybamm.plotting.quick_plot.QuickPlot at 0x175c86c10>"
      ]
     },
     "execution_count": 3,
     "metadata": {},
     "output_type": "execute_result"
    }
   ],
   "source": [
    "ks = [1e-4, 1e-3, 1e-2]\n",
    "solutions = []\n",
    "\n",
    "for k in ks:\n",
    "    param.update({\"Positive electrode LAM constant proportional term [s-1]\": k / 3600})\n",
    "    param.update({\"Negative electrode LAM constant proportional term [s-1]\": k / 3600})\n",
    "\n",
    "    sim = pybamm.Simulation(\n",
    "        model,\n",
    "        experiment=experiment,\n",
    "        parameter_values=param,\n",
    "    )\n",
    "    solution = sim.solve(calc_esoh=False)\n",
    "    solutions.append(solution)\n",
    "\n",
    "pybamm.dynamic_plot(\n",
    "    solutions,\n",
    "    output_variables=[\n",
    "        \"Voltage [V]\",\n",
    "        \"Current [A]\",\n",
    "        \"Sum of x-averaged positive electrode volumetric interfacial current densities [A.m-3]\",\n",
    "        \"Sum of x-averaged negative electrode volumetric interfacial current densities [A.m-3]\",\n",
    "        \"X-averaged positive electrode active material volume fraction\",\n",
    "        \"X-averaged negative electrode active material volume fraction\",\n",
    "        \"X-averaged positive electrode surface area to volume ratio [m-1]\",\n",
    "        \"X-averaged negative electrode surface area to volume ratio [m-1]\",\n",
    "    ],\n",
    "    labels=[f\"k={k:.0e}\" for k in ks],\n",
    ")"
   ]
  },
  {
   "cell_type": "markdown",
   "metadata": {},
   "source": [
    "## Reaction-driven LAM\n",
    "\n",
    "Another option is to use reaction-driven (i.e. SEI) LAM. In this case we need to choose the `\"reaction-driven\"` option in the model, and proceed along the lines of the previous example."
   ]
  },
  {
   "cell_type": "code",
   "execution_count": 4,
   "metadata": {},
   "outputs": [
    {
     "data": {
      "application/vnd.jupyter.widget-view+json": {
       "model_id": "979c0f154595488da4fab0bd7cd66565",
       "version_major": 2,
       "version_minor": 0
      },
      "text/plain": [
       "interactive(children=(FloatSlider(value=0.0, description='t', max=1.8531299069255607, step=0.01853129906925560…"
      ]
     },
     "metadata": {},
     "output_type": "display_data"
    },
    {
     "data": {
      "text/plain": [
       "<pybamm.plotting.quick_plot.QuickPlot at 0x2846e3b90>"
      ]
     },
     "execution_count": 4,
     "metadata": {},
     "output_type": "execute_result"
    }
   ],
   "source": [
    "model = pybamm.lithium_ion.DFN(\n",
    "    options={\n",
    "        \"SEI\": \"solvent-diffusion limited\",\n",
    "        \"loss of active material\": \"reaction-driven\",\n",
    "    }\n",
    ")\n",
    "param = pybamm.ParameterValues(\"Chen2020\")\n",
    "param.update({\"Negative electrode reaction-driven LAM factor [m3.mol-1]\": 1e-3})\n",
    "sim = pybamm.Simulation(\n",
    "    model,\n",
    "    experiment=experiment,\n",
    "    parameter_values=param,\n",
    "    solver=pybamm.CasadiSolver(\"fast with events\"),\n",
    ")\n",
    "solution = sim.solve(calc_esoh=False)\n",
    "\n",
    "sim.plot(\n",
    "    [\n",
    "        \"Voltage [V]\",\n",
    "        \"Current [A]\",\n",
    "        \"Sum of x-averaged negative electrode volumetric interfacial current densities [A.m-3]\",\n",
    "        \"X-averaged negative electrode active material volume fraction\",\n",
    "        \"Negative total SEI thickness [m]\",\n",
    "        \"X-averaged negative total SEI thickness [m]\",\n",
    "    ]\n",
    ")"
   ]
  },
  {
   "cell_type": "markdown",
   "metadata": {},
   "source": [
    "Both stress-driven and reaction-driven can be combined by calling the `\"stress and reaction-driven\"` option."
   ]
  },
  {
   "cell_type": "markdown",
   "metadata": {},
   "source": [
    "## Current-driven LAM\n",
    "\n",
    "The final submodel is current-driven LAM, which follows equation (26) from [Reniers et al (2019)](https://iopscience.iop.org/article/10.1149/2.0281914jes/meta). In this case we need to define the RHS of the equation as a function of current density and temperature. The example here is illustrative and does not represent any real scenario."
   ]
  },
  {
   "cell_type": "code",
   "execution_count": 5,
   "metadata": {},
   "outputs": [
    {
     "data": {
      "application/vnd.jupyter.widget-view+json": {
       "model_id": "42f77d86732043a795b8c3264fd755bc",
       "version_major": 2,
       "version_minor": 0
      },
      "text/plain": [
       "interactive(children=(FloatSlider(value=0.0, description='t', max=1.8506642114311478, step=0.01850664211431147…"
      ]
     },
     "metadata": {},
     "output_type": "display_data"
    },
    {
     "data": {
      "text/plain": [
       "<pybamm.plotting.quick_plot.QuickPlot at 0x2852402d0>"
      ]
     },
     "execution_count": 5,
     "metadata": {},
     "output_type": "execute_result"
    }
   ],
   "source": [
    "def current_LAM(i, T):\n",
    "    return -1e-10 * (abs(i) + 1e3 * abs(i) ** 0.5)\n",
    "\n",
    "\n",
    "model = pybamm.lithium_ion.DFN(\n",
    "    options={\n",
    "        \"loss of active material\": \"current-driven\",\n",
    "    }\n",
    ")\n",
    "param = pybamm.ParameterValues(\"Chen2020\")\n",
    "param.update(\n",
    "    {\n",
    "        \"Positive electrode current-driven LAM rate\": current_LAM,\n",
    "        \"Negative electrode current-driven LAM rate\": current_LAM,\n",
    "    },\n",
    "    check_already_exists=False,\n",
    ")\n",
    "sim = pybamm.Simulation(\n",
    "    model,\n",
    "    experiment=experiment,\n",
    "    parameter_values=param,\n",
    "    solver=pybamm.CasadiSolver(\"fast with events\"),\n",
    ")\n",
    "solution = sim.solve(calc_esoh=False)\n",
    "\n",
    "sim.plot(\n",
    "    [\n",
    "        \"Voltage [V]\",\n",
    "        \"Current [A]\",\n",
    "        \"X-averaged positive electrode active material volume fraction\",\n",
    "        \"X-averaged negative electrode active material volume fraction\",\n",
    "    ]\n",
    ")"
   ]
  },
  {
   "cell_type": "markdown",
   "metadata": {},
   "source": [
    "## References\n",
    "\n",
    "The relevant papers for this notebook are:"
   ]
  },
  {
   "cell_type": "code",
   "execution_count": 6,
   "metadata": {},
   "outputs": [
    {
     "name": "stdout",
     "output_type": "stream",
     "text": [
      "[1] Weilong Ai, Ludwig Kraft, Johannes Sturm, Andreas Jossen, and Billy Wu. Electrochemical thermal-mechanical modelling of stress inhomogeneity in lithium-ion pouch cells. Journal of The Electrochemical Society, 167(1):013512, 2019. doi:10.1149/2.0122001JES.\n",
      "[2] Joel A. E. Andersson, Joris Gillis, Greg Horn, James B. Rawlings, and Moritz Diehl. CasADi – A software framework for nonlinear optimization and optimal control. Mathematical Programming Computation, 11(1):1–36, 2019. doi:10.1007/s12532-018-0139-4.\n",
      "[3] Chang-Hui Chen, Ferran Brosa Planella, Kieran O'Regan, Dominika Gastol, W. Dhammika Widanage, and Emma Kendrick. Development of Experimental Techniques for Parameterization of Multi-scale Lithium-ion Battery Models. Journal of The Electrochemical Society, 167(8):080534, 2020. doi:10.1149/1945-7111/ab9050.\n",
      "[4] Rutooj Deshpande, Mark Verbrugge, Yang-Tse Cheng, John Wang, and Ping Liu. Battery cycle life prediction with coupled chemical degradation and fatigue mechanics. Journal of the Electrochemical Society, 159(10):A1730, 2012. doi:10.1149/2.049210jes.\n",
      "[5] Marc Doyle, Thomas F. Fuller, and John Newman. Modeling of galvanostatic charge and discharge of the lithium/polymer/insertion cell. Journal of the Electrochemical society, 140(6):1526–1533, 1993. doi:10.1149/1.2221597.\n",
      "[6] Charles R. Harris, K. Jarrod Millman, Stéfan J. van der Walt, Ralf Gommers, Pauli Virtanen, David Cournapeau, Eric Wieser, Julian Taylor, Sebastian Berg, Nathaniel J. Smith, and others. Array programming with NumPy. Nature, 585(7825):357–362, 2020. doi:10.1038/s41586-020-2649-2.\n",
      "[7] Scott G. Marquis. Long-term degradation of lithium-ion batteries. PhD thesis, University of Oxford, 2020.\n",
      "[8] Jorn M. Reniers, Grietus Mulder, and David A. Howey. Review and performance comparison of mechanical-chemical degradation models for lithium-ion batteries. Journal of The Electrochemical Society, 166(14):A3189, 2019. doi:10.1149/2.0281914jes.\n",
      "[9] Valentin Sulzer, Scott G. Marquis, Robert Timms, Martin Robinson, and S. Jon Chapman. Python Battery Mathematical Modelling (PyBaMM). Journal of Open Research Software, 9(1):14, 2021. doi:10.5334/jors.309.\n",
      "\n"
     ]
    }
   ],
   "source": [
    "pybamm.print_citations()"
   ]
  },
  {
   "cell_type": "code",
   "execution_count": null,
   "metadata": {},
   "outputs": [],
   "source": []
  }
 ],
 "metadata": {
  "kernelspec": {
   "display_name": "Python 3 (ipykernel)",
   "language": "python",
   "name": "python3"
  },
  "language_info": {
   "codemirror_mode": {
    "name": "ipython",
    "version": 3
   },
   "file_extension": ".py",
   "mimetype": "text/x-python",
   "name": "python",
   "nbconvert_exporter": "python",
   "pygments_lexer": "ipython3",
   "version": "3.8.10"
  },
  "toc": {
   "base_numbering": 1,
   "nav_menu": {},
   "number_sections": true,
   "sideBar": true,
   "skip_h1_title": false,
   "title_cell": "Table of Contents",
   "title_sidebar": "Contents",
   "toc_cell": false,
   "toc_position": {},
   "toc_section_display": true,
   "toc_window_display": true
  },
  "vscode": {
   "interpreter": {
    "hash": "187972e187ab8dfbecfab9e8e194ae6d08262b2d51a54fa40644e3ddb6b5f74c"
   }
  }
 },
 "nbformat": 4,
 "nbformat_minor": 4
}
