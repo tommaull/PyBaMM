{
 "cells": [
  {
   "cell_type": "markdown",
   "id": "cathedral-trance",
   "metadata": {},
   "source": [
    "# Jelly roll model\n",
    "\n",
    "In this notebook we show how to set up and solve the \"two-potential\" model from \"Homogenisation of spirally-wound high-contrast layered materials\", S. Psaltis, R. Timms, C.P. Please, S.J. Chapman, SIAM Journal on Applied Mathematics, 2020.\n",
    "\n",
    "We consider a spirally-wound cell, such as the common 18650 lithium-ion cell. In practice these cells are constructed by rolling a sandwich of layers containing the active cathode, positive current collector, active cathode, separator, active anode, negative current collector, active anode, and separator. The \"two-potential\" model consists of an equation for the potential $\\phi^\\pm$ in each current collector. The potential difference drives a current $I$ through the electrode/separator/electrode sandwich (which we refer to as the \"active material\" in the original paper). Thus, in non-dimensional form, the model is \n",
    "\n",
    "$$ \\frac{\\delta^+\\sigma^+}{2\\pi^2}\\frac{1}{r}\\frac{\\mathrm{d}}{\\mathrm{d}r}\\left(\\frac{1}{r}\\frac{\\mathrm{d}\\phi^+}{\\mathrm{d}r}\\right) + 2I(\\phi^+-\\phi^-) = 0,$$\n",
    "$$ \\frac{\\delta^-\\sigma^-}{2\\pi^2}\\frac{1}{r}\\frac{\\mathrm{d}}{\\mathrm{d}r}\\left(\\frac{1}{r}\\frac{\\mathrm{d}\\phi^-}{\\mathrm{d}r}\\right) - 2I(\\phi^+-\\phi^-) = 0,$$\n",
    "with boundary conditions \n",
    "$$ \\frac{\\mathrm{d}\\phi^+}{\\mathrm{d}r}(r=r_0) = 0, \\quad \\phi^+(r=1) = 1, \\quad \\phi^-(r=0) = 0, \\quad \\frac{\\mathrm{d}\\phi^-}{\\mathrm{d}r}(r=1) = 0.$$\n",
    "\n",
    "For a complete description of the model and parameters, please refer to the original paper.\n",
    "\n",
    "It can be shown that the active material can be modelled using any 1D battery model we like to describe the electrochemical/thermal behaviour in the electrode/separator/electrode sandwich. Such functionality will be added to PyBaMM in a future release and will enable efficient simulations of jelly roll cells.  \n"
   ]
  },
  {
   "cell_type": "markdown",
   "id": "whole-diabetes",
   "metadata": {},
   "source": [
    "## Two-potential resistor model\n",
    "In this section we consider a simplified model in which we ignore the details of the anode, cathode and separator, and treat them as a single region of active material, modelled as an Ohmic conductor, with two such regions per winding. In this case the model becomes \n",
    "\n",
    "$$ \\frac{\\delta^+\\sigma^+}{2\\pi^2}\\frac{1}{r}\\frac{\\mathrm{d}}{\\mathrm{d}r}\\left(\\frac{1}{r}\\frac{\\mathrm{d}\\phi^+}{\\mathrm{d}r}\\right) + \\frac{2\\sigma^{a}(\\phi^--\\phi^+)}{l\\epsilon^4} = 0,$$\n",
    "$$ \\frac{\\delta^-\\sigma^-}{2\\pi^2}\\frac{1}{r}\\frac{\\mathrm{d}}{\\mathrm{d}r}\\left(\\frac{1}{r}\\frac{\\mathrm{d}\\phi^-}{\\mathrm{d}r}\\right) - \\frac{2\\sigma^{a}(\\phi^--\\phi^+)}{l\\epsilon^4} = 0,$$\n",
    "along with the same boundary conditions.\n",
    "\n",
    "We begin by importing PyBaMM along with some other useful packages"
   ]
  },
  {
   "cell_type": "code",
   "execution_count": 1,
   "id": "heard-cartridge",
   "metadata": {},
   "outputs": [
    {
     "name": "stdout",
     "output_type": "stream",
     "text": [
      "\u001b[33mWARNING: pybamm 23.5 does not provide the extra 'cite'\u001b[0m\u001b[33m\n",
      "\u001b[0m\u001b[33mWARNING: pybamm 23.5 does not provide the extra 'plot'\u001b[0m\u001b[33m\n",
      "\u001b[0m\n",
      "\u001b[1m[\u001b[0m\u001b[34;49mnotice\u001b[0m\u001b[1;39;49m]\u001b[0m\u001b[39;49m A new release of pip is available: \u001b[0m\u001b[31;49m23.0.1\u001b[0m\u001b[39;49m -> \u001b[0m\u001b[32;49m23.2.1\u001b[0m\n",
      "\u001b[1m[\u001b[0m\u001b[34;49mnotice\u001b[0m\u001b[1;39;49m]\u001b[0m\u001b[39;49m To update, run: \u001b[0m\u001b[32;49mpip install --upgrade pip\u001b[0m\n",
      "Note: you may need to restart the kernel to use updated packages.\n"
     ]
    }
   ],
   "source": [
    "%pip install \"pybamm[plot,cite]\" -q    # install PyBaMM if it is not installed\n",
    "import pybamm\n",
    "import numpy as np \n",
    "from numpy import pi\n",
    "import matplotlib.pyplot as plt "
   ]
  },
  {
   "cell_type": "markdown",
   "id": "steady-chest",
   "metadata": {},
   "source": [
    "First we will define the parameters in the model. Note the model is posed in non-dimensional form."
   ]
  },
  {
   "cell_type": "code",
   "execution_count": 2,
   "id": "rising-executive",
   "metadata": {},
   "outputs": [],
   "source": [
    "N = pybamm.Parameter(\"Number of winds\")\n",
    "r0 = pybamm.Parameter(\"Inner radius\")\n",
    "eps = (1 - r0) / N  # ratio of sandwich thickness to cell radius\n",
    "delta = pybamm.Parameter(\"Current collector thickness\")\n",
    "delta_p = delta  # assume same thickness\n",
    "delta_n = delta  # assume same thickness\n",
    "l = 1/2 - delta_p - delta_n  # active material thickness  # noqa: E741\n",
    "sigma_p = pybamm.Parameter(\"Positive current collector conductivity\")\n",
    "sigma_n = pybamm.Parameter(\"Negative current collector conductivity\")\n",
    "sigma_a = pybamm.Parameter(\"Active material conductivity\")"
   ]
  },
  {
   "cell_type": "markdown",
   "id": "worth-easter",
   "metadata": {},
   "source": [
    "Next we define our geometry and model"
   ]
  },
  {
   "cell_type": "code",
   "execution_count": 3,
   "id": "virgin-wrestling",
   "metadata": {},
   "outputs": [],
   "source": [
    "# geometry\n",
    "r = pybamm.SpatialVariable(\"radius\", domain=\"cell\", coord_sys=\"cylindrical polar\")\n",
    "geometry = {\"cell\": {r: {\"min\": r0, \"max\": 1}}}\n",
    "\n",
    "# model\n",
    "model = pybamm.BaseModel()\n",
    "phi_p = pybamm.Variable(\"Positive potential\", domain=\"cell\")\n",
    "phi_n = pybamm.Variable(\"Negative potential\", domain=\"cell\")\n",
    "\n",
    "A_p = (2 * sigma_a / eps ** 4 / l) / (delta_p * sigma_p / 2 / pi ** 2)\n",
    "A_n = (2 * sigma_a / eps ** 4 / l) / (delta_n * sigma_n / 2 / pi ** 2)\n",
    "model.algebraic = {\n",
    "        phi_p: pybamm.div((1 / r ** 2) * pybamm.grad(phi_p)) + A_p * (phi_n - phi_p),\n",
    "        phi_n: pybamm.div((1 / r ** 2) * pybamm.grad(phi_n)) - A_n * (phi_n - phi_p),\n",
    "}\n",
    "\n",
    "model.boundary_conditions = {\n",
    "    phi_p: {\n",
    "        \"left\": (0, \"Neumann\"),\n",
    "        \"right\": (1, \"Dirichlet\"),\n",
    "    },\n",
    "    phi_n: {\n",
    "        \"left\": (0, \"Dirichlet\"),\n",
    "        \"right\": (0, \"Neumann\"),\n",
    "    }    \n",
    "}\n",
    "\n",
    "model.initial_conditions = {phi_p: 1, phi_n: 0}  # initial guess for solver\n",
    "\n",
    "model.variables = {\"Negative potential\": phi_n, \"Positive potential\": phi_p}"
   ]
  },
  {
   "cell_type": "markdown",
   "id": "based-slope",
   "metadata": {},
   "source": [
    "Next we provide values for our parameters, and process our geometry and model, thus replacing the `Parameter` symbols with numerical values"
   ]
  },
  {
   "cell_type": "code",
   "execution_count": 4,
   "id": "technological-electric",
   "metadata": {},
   "outputs": [
    {
     "data": {
      "text/plain": [
       "<pybamm.models.base_model.BaseModel at 0x7f98ac190a90>"
      ]
     },
     "execution_count": 4,
     "metadata": {},
     "output_type": "execute_result"
    }
   ],
   "source": [
    "params = pybamm.ParameterValues(\n",
    "    {\n",
    "        \"Number of winds\":20,\n",
    "        \"Inner radius\": 0.25,\n",
    "        \"Current collector thickness\": 0.05,\n",
    "        \"Positive current collector conductivity\": 5e6,\n",
    "        \"Negative current collector conductivity\": 5e6,\n",
    "        \"Active material conductivity\": 1,\n",
    "    }\n",
    ")\n",
    "params.process_geometry(geometry)\n",
    "params.process_model(model)"
   ]
  },
  {
   "cell_type": "markdown",
   "id": "polyphonic-opinion",
   "metadata": {},
   "source": [
    "We choose to discretise in space using the Finite Volume method on a uniform grid"
   ]
  },
  {
   "cell_type": "code",
   "execution_count": 5,
   "id": "buried-blind",
   "metadata": {},
   "outputs": [],
   "source": [
    "# mesh\n",
    "submesh_types = {\"cell\": pybamm.Uniform1DSubMesh}\n",
    "var_pts = {r: 100}\n",
    "mesh = pybamm.Mesh(geometry, submesh_types, var_pts)\n",
    "# method\n",
    "spatial_methods = {\"cell\": pybamm.FiniteVolume()}\n",
    "# discretise\n",
    "disc = pybamm.Discretisation(mesh, spatial_methods)\n",
    "disc.process_model(model);"
   ]
  },
  {
   "cell_type": "markdown",
   "id": "gothic-deadline",
   "metadata": {},
   "source": [
    "We can now solve the model"
   ]
  },
  {
   "cell_type": "code",
   "execution_count": 6,
   "id": "straight-anime",
   "metadata": {},
   "outputs": [],
   "source": [
    "# solver \n",
    "solver = pybamm.CasadiAlgebraicSolver()\n",
    "solution = solver.solve(model)"
   ]
  },
  {
   "cell_type": "markdown",
   "id": "excessive-universal",
   "metadata": {},
   "source": [
    "The model gives the homogenised potentials in the negative a positive current collectors. Interestingly, the solid potential has microscale structure, varying linearly in the active material. In order to see this we need to post-process the solution and plot the potential as a function of radial position, being careful to capture the spiral geometry.  "
   ]
  },
  {
   "cell_type": "code",
   "execution_count": 7,
   "id": "invisible-laser",
   "metadata": {},
   "outputs": [],
   "source": [
    "# extract numerical parameter values\n",
    "# Note: this overrides the definition of the `pybamm.Parameter` objects\n",
    "N = params.evaluate(N)\n",
    "r0 = params.evaluate(r0)\n",
    "eps = params.evaluate(eps)\n",
    "delta = params.evaluate(delta)"
   ]
  },
  {
   "cell_type": "code",
   "execution_count": 8,
   "id": "affecting-albuquerque",
   "metadata": {},
   "outputs": [],
   "source": [
    "# post-process homogenised potential \n",
    "phi_n = solution[\"Negative potential\"]\n",
    "phi_p = solution[\"Positive potential\"]\n",
    "\n",
    "\n",
    "def alpha(r):\n",
    "    return 2 * (phi_n(r=r) - phi_p(r=r))\n",
    "\n",
    "\n",
    "def phi_am1(r, theta):\n",
    "    # careful here - phi always returns a column vector so we need to add a new axis to r to get the right shape \n",
    "    return alpha(r) * (r[:,np.newaxis]/eps - r0/eps - delta - theta / 2 / pi) / (1 - 4*delta) + phi_p(r=r)\n",
    "\n",
    "\n",
    "def phi_am2(r, theta):\n",
    "    # careful here - phi always returns a column vector so we need to add a new axis to r to get the right shape \n",
    "    return alpha(r) * (r0/eps + 1 - delta + theta / 2 / pi - r[:,np.newaxis]/eps) / (1 - 4*delta) + phi_p(r=r)"
   ]
  },
  {
   "cell_type": "code",
   "execution_count": 9,
   "id": "taken-hearing",
   "metadata": {},
   "outputs": [],
   "source": [
    "# define spiral \n",
    "\n",
    "\n",
    "def spiral_pos_inner(t):\n",
    "    return r0 - eps * delta + eps * t / (2 * pi)\n",
    "\n",
    "\n",
    "def spiral_pos_outer(t):\n",
    "    return r0 + eps * delta + eps * t / (2 * pi)\n",
    "\n",
    "\n",
    "def spiral_neg_inner(t):\n",
    "    return r0 - eps * delta + eps / 2 + eps * t / (2 * pi)\n",
    "\n",
    "\n",
    "def spiral_neg_outer(t):\n",
    "    return r0 + eps * delta + eps / 2 + eps * t / (2 * pi)\n",
    "\n",
    "\n",
    "def spiral_am1_inner(t):\n",
    "    return r0 + eps * delta + eps * t / (2 * pi)\n",
    "\n",
    "\n",
    "def spiral_am1_outer(t):\n",
    "    return r0 - eps * delta + eps / 2 + eps * t / (2 * pi)\n",
    "\n",
    "\n",
    "def spiral_am2_inner(t):\n",
    "    return r0 + eps * delta + eps / 2 + eps * t / (2 * pi)\n",
    "\n",
    "\n",
    "def spiral_am2_outer(t):\n",
    "    return r0 - eps * delta + eps + eps * t / (2 * pi)"
   ]
  },
  {
   "cell_type": "code",
   "execution_count": 10,
   "id": "handled-jacksonville",
   "metadata": {},
   "outputs": [],
   "source": [
    "# Setup fine mesh with nr points per layer\n",
    "nr = 10\n",
    "rr = np.linspace(r0, 1, nr)\n",
    "tt = np.arange(0, (N+1)*2*pi, 2*pi)\n",
    "# N+1 winds of pos c.c.\n",
    "r_mesh_pos = np.zeros((len(tt),len(rr)))\n",
    "for i in range(len(tt)):\n",
    "    r_mesh_pos[i,:] = np.linspace(spiral_pos_inner(tt[i]), spiral_pos_outer(tt[i]), nr)\n",
    "# N winds of neg, am1, am2\n",
    "r_mesh_neg = np.zeros((len(tt)-1, len(rr)))\n",
    "r_mesh_am1 = np.zeros((len(tt)-1, len(rr)))\n",
    "r_mesh_am2 = np.zeros((len(tt)-1, len(rr)))\n",
    "for i in range(len(tt)-1):\n",
    "    r_mesh_am2[i,:] = np.linspace(spiral_am2_inner(tt[i]), spiral_am2_outer(tt[i]), nr)\n",
    "    r_mesh_neg[i,:] = np.linspace(spiral_neg_inner(tt[i]), spiral_neg_outer(tt[i]), nr)\n",
    "    r_mesh_am1[i,:] = np.linspace(spiral_am1_inner(tt[i]), spiral_am1_outer(tt[i]), nr)\n",
    "# Combine and sort    \n",
    "r_total_mesh = np.vstack((r_mesh_pos,r_mesh_neg,r_mesh_am1, r_mesh_am2))\n",
    "r_total_mesh = np.sort(r_total_mesh,axis=None)"
   ]
  },
  {
   "cell_type": "code",
   "execution_count": 11,
   "id": "monetary-belarus",
   "metadata": {
    "scrolled": false
   },
   "outputs": [
    {
     "data": {
      "image/png": "[encoded data removed]",
      "text/plain": [
       "<Figure size 800x600 with 1 Axes>"
      ]
     },
     "metadata": {},
     "output_type": "display_data"
    }
   ],
   "source": [
    "# plot homogenised potential \n",
    "fig, ax = plt.subplots(1, 1, figsize=(8,6))\n",
    "\n",
    "ax.plot(r_total_mesh, phi_n(r=r_total_mesh), 'b', label=r\"$\\phi^-$\")\n",
    "ax.plot(r_total_mesh, phi_p(r=r_total_mesh), 'r', label=r\"$\\phi^+$\")\n",
    "for i in range(len(tt)):\n",
    "    ax.plot(r_mesh_pos[i,:], phi_p(r=r_mesh_pos[i,:]), 'k', label=r\"$\\phi$\" if i ==0 else \"\")\n",
    "for i in range(len(tt)-1):\n",
    "    ax.plot(r_mesh_neg[i,:], phi_n(r=r_mesh_neg[i,:]), 'k')\n",
    "    ax.plot(r_mesh_am1[i,:], phi_am1(r_mesh_am1[i,:], tt[i]), 'k')\n",
    "    ax.plot(r_mesh_am2[i,:], phi_am2(r_mesh_am2[i,:], tt[i]), 'k')\n",
    "ax.set_xlabel(r\"$r$\")\n",
    "ax.set_ylabel(r\"$\\phi$\")\n",
    "ax.legend();"
   ]
  },
  {
   "cell_type": "markdown",
   "id": "thrown-proposition",
   "metadata": {},
   "source": [
    "## References\n",
    "\n",
    "The relevant papers for this notebook are:"
   ]
  },
  {
   "cell_type": "code",
   "execution_count": 12,
   "id": "vietnamese-brisbane",
   "metadata": {},
   "outputs": [
    {
     "name": "stdout",
     "output_type": "stream",
     "text": [
      "[1] Joel A. E. Andersson, Joris Gillis, Greg Horn, James B. Rawlings, and Moritz Diehl. CasADi – A software framework for nonlinear optimization and optimal control. Mathematical Programming Computation, 11(1):1–36, 2019. doi:10.1007/s12532-018-0139-4.\n",
      "[2] Charles R. Harris, K. Jarrod Millman, Stéfan J. van der Walt, Ralf Gommers, Pauli Virtanen, David Cournapeau, Eric Wieser, Julian Taylor, Sebastian Berg, Nathaniel J. Smith, and others. Array programming with NumPy. Nature, 585(7825):357–362, 2020. doi:10.1038/s41586-020-2649-2.\n",
      "[3] Valentin Sulzer, Scott G. Marquis, Robert Timms, Martin Robinson, and S. Jon Chapman. Python Battery Mathematical Modelling (PyBaMM). Journal of Open Research Software, 9(1):14, 2021. doi:10.5334/jors.309.\n",
      "\n"
     ]
    }
   ],
   "source": [
    "pybamm.print_citations()"
   ]
  }
 ],
 "metadata": {
  "kernelspec": {
   "display_name": "Python 3 (ipykernel)",
   "language": "python",
   "name": "python3"
  },
  "language_info": {
   "codemirror_mode": {
    "name": "ipython",
    "version": 3
   },
   "file_extension": ".py",
   "mimetype": "text/x-python",
   "name": "python",
   "nbconvert_exporter": "python",
   "pygments_lexer": "ipython3",
   "version": "3.9.0"
  }
 },
 "nbformat": 4,
 "nbformat_minor": 5
}
