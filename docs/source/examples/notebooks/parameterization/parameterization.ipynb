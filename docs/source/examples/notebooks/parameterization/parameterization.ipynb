{
    "cells": [
        {
            "attachments": {},
            "cell_type": "markdown",
            "metadata": {},
            "source": [
                "# Parameterisation\n",
                "\n",
                "In this notebook, we show how to find which parameters are needed in a model and define them.\n",
                "\n",
                "For other notebooks about parameterization, see:\n",
                "\n",
                "- The API documentation of [Parameters](https://docs.pybamm.org/en/latest/source/api/parameters/index.html)\n",
                "- [Setting parameter values](https://github.com/pybamm-team/PyBaMM/blob/develop/docs/source/examples/notebooks/getting_started/tutorial-4-setting-parameter-values.ipynb) can be found at `pybamm/docs/source/examples/notebooks/getting_started/tutorial-4-setting-parameter-values.ipynb`. This explains the basics of how to set the parameters of a model (in less detail than here).\n",
                "- [parameter-values.ipynb](https://github.com/pybamm-team/PyBaMM/blob/develop/docs/source/examples/notebooks/parameterization/parameter-values.ipynb) can be found at `pybamm/examples/notebooks/parameterization/parameter-values.ipynb`. This explains the basics of the `ParameterValues` class.\n"
            ]
        },
        {
            "attachments": {},
            "cell_type": "markdown",
            "metadata": {},
            "source": [
                "## Adding your own parameter sets (using a dictionary)\n",
                "\n",
                "We will be using the model defined and explained in more detail in [3-negative-particle-problem.ipynb](https://github.com/pybamm-team/PyBaMM/blob/develop/docs/source/examples/notebooks/creating_models/3-negative-particle-problem.ipynb) example notebook. We begin by importing the required libraries"
            ]
        },
        {
            "cell_type": "code",
            "execution_count": 1,
            "metadata": {},
            "outputs": [
                {
                    "name": "stdout",
                    "output_type": "stream",
                    "text": [
                        "Note: you may need to restart the kernel to use updated packages.\n"
                    ]
                }
            ],
            "source": [
                "%pip install pybamm[plot,cite] -q    # install PyBaMM if it is not installed\n",
                "import pybamm\n",
                "import numpy as np\n",
                "import matplotlib.pyplot as plt"
            ]
        },
        {
            "attachments": {},
            "cell_type": "markdown",
            "metadata": {},
            "source": [
                "## Setting up the model\n",
                "\n",
                "We define all the parameters and variables using `pybamm.Parameter` and `pybamm.Variable` respectively."
            ]
        },
        {
            "cell_type": "code",
            "execution_count": 2,
            "metadata": {},
            "outputs": [],
            "source": [
                "c = pybamm.Variable(\"Concentration [mol.m-3]\", domain=\"negative particle\")\n",
                "\n",
                "R = pybamm.Parameter(\"Particle radius [m]\")\n",
                "D = pybamm.FunctionParameter(\"Diffusion coefficient [m2.s-1]\", {\"Concentration [mol.m-3]\": c})\n",
                "j = pybamm.InputParameter(\"Interfacial current density [A.m-2]\")\n",
                "c0 = pybamm.Parameter(\"Initial concentration [mol.m-3]\")\n",
                "c_e = pybamm.Parameter(\"Electrolyte concentration [mol.m-3]\")"
            ]
        },
        {
            "attachments": {},
            "cell_type": "markdown",
            "metadata": {},
            "source": [
                "Now we define our model equations, boundary and initial conditions. We also add the variables required using the dictionary `model.variables`"
            ]
        },
        {
            "cell_type": "code",
            "execution_count": 3,
            "metadata": {},
            "outputs": [],
            "source": [
                "model = pybamm.BaseModel()\n",
                "\n",
                "# governing equations\n",
                "N = -D * pybamm.grad(c)  # flux\n",
                "dcdt = -pybamm.div(N)\n",
                "model.rhs = {c: dcdt}  \n",
                "\n",
                "# boundary conditions \n",
                "lbc = pybamm.Scalar(0)\n",
                "rbc = -j\n",
                "model.boundary_conditions = {c: {\"left\": (lbc, \"Neumann\"), \"right\": (rbc, \"Neumann\")}}\n",
                "\n",
                "# initial conditions \n",
                "model.initial_conditions = {c: c0}\n",
                "\n",
                "model.variables = {\n",
                "    \"Concentration [mol.m-3]\": c,\n",
                "    \"Surface concentration [mol.m-3]\": pybamm.surf(c),\n",
                "    \"Flux [mol.m-2.s-1]\": N,\n",
                "}"
            ]
        },
        {
            "attachments": {},
            "cell_type": "markdown",
            "metadata": {},
            "source": [
                "We also define the geometry, since there are parameters in the geometry too"
            ]
        },
        {
            "cell_type": "code",
            "execution_count": 4,
            "metadata": {},
            "outputs": [],
            "source": [
                "r = pybamm.SpatialVariable(\"r\", domain=[\"negative particle\"], coord_sys=\"spherical polar\")\n",
                "geometry = pybamm.Geometry({\"negative particle\": {r: {\"min\": pybamm.Scalar(0), \"max\": R}}})"
            ]
        },
        {
            "attachments": {},
            "cell_type": "markdown",
            "metadata": {},
            "source": [
                "## Finding the parameters required"
            ]
        },
        {
            "attachments": {},
            "cell_type": "markdown",
            "metadata": {},
            "source": [
                "To know what parameters are required by the model and geometry, we can do"
            ]
        },
        {
            "cell_type": "code",
            "execution_count": 5,
            "metadata": {},
            "outputs": [
                {
                    "name": "stdout",
                    "output_type": "stream",
                    "text": [
                        "Initial concentration [mol.m-3] (Parameter)\n",
                        "Interfacial current density [A.m-2] (InputParameter)\n",
                        "Diffusion coefficient [m2.s-1] (FunctionParameter with input(s) 'Concentration [mol.m-3]')\n",
                        "\n",
                        "Particle radius [m] (Parameter)\n"
                    ]
                }
            ],
            "source": [
                "model.print_parameter_info()\n",
                "geometry.print_parameter_info()"
            ]
        },
        {
            "attachments": {},
            "cell_type": "markdown",
            "metadata": {},
            "source": [
                "This tells us that we need to provide parameter values for the initial concentration and Faraday constant, an `InputParameter` at solve time for the interfacial current density, and diffusivity as a function of concentration. Since the electrolyte concentration does not appear anywhere in the model, there is no need to provide a value for it."
            ]
        },
        {
            "attachments": {},
            "cell_type": "markdown",
            "metadata": {},
            "source": [
                "## Adding the parameters\n",
                "\n",
                "Now we can proceed to the step where we add the `parameter` values using a dictionary. We set up a dictionary with parameter names as the dictionary keys and their respective values as the dictionary values."
            ]
        },
        {
            "cell_type": "code",
            "execution_count": 6,
            "metadata": {},
            "outputs": [],
            "source": [
                "def D_fun(c):\n",
                "    return 3.9 #* pybamm.exp(-c)\n",
                "\n",
                "values = {\n",
                "    \"Particle radius [m]\": 2,\n",
                "    \"Diffusion coefficient [m2.s-1]\": D_fun,\n",
                "    \"Initial concentration [mol.m-3]\": 2.5,\n",
                "}"
            ]
        },
        {
            "attachments": {},
            "cell_type": "markdown",
            "metadata": {},
            "source": [
                "Now we can pass this dictionary in `pybamm.ParameterValues` class which accepts a dictionary of parameter names and values. We can then print `param` to check if it was initialised."
            ]
        },
        {
            "cell_type": "code",
            "execution_count": 7,
            "metadata": {},
            "outputs": [
                {
                    "data": {
                        "text/plain": [
                            "{'Diffusion coefficient [m2.s-1]': <function D_fun at 0x14c4a6310>,\n",
                            " 'Initial concentration [mol.m-3]': 2.5,\n",
                            " 'Particle radius [m]': 2}"
                        ]
                    },
                    "execution_count": 7,
                    "metadata": {},
                    "output_type": "execute_result"
                }
            ],
            "source": [
                "param = pybamm.ParameterValues(values)\n",
                "\n",
                "param"
            ]
        },
        {
            "attachments": {},
            "cell_type": "markdown",
            "metadata": {},
            "source": [
                "## Updating the parameter values\n",
                "\n",
                "The parameter values or `param` can be further updated by using the `update` function of `ParameterValues` class. The `update` function takes a dictionary with keys being the parameters to be updated and their respective values being the updated values. Here we update the `\"Particle radius [m]\"` parameter's value. Additionally, a function can also be passed as a `parameter`'s value which we will see ahead, and a new `parameter` can also be added by passing `check_already_exists=False` in the `update` function."
            ]
        },
        {
            "cell_type": "code",
            "execution_count": 8,
            "metadata": {},
            "outputs": [
                {
                    "data": {
                        "text/plain": [
                            "{'Diffusion coefficient [m2.s-1]': <function D_fun at 0x14c4a6310>,\n",
                            " 'Initial concentration [mol.m-3]': 1.5,\n",
                            " 'Particle radius [m]': 2}"
                        ]
                    },
                    "execution_count": 8,
                    "metadata": {},
                    "output_type": "execute_result"
                }
            ],
            "source": [
                "param.update({\"Initial concentration [mol.m-3]\": 1.5})\n",
                "param"
            ]
        },
        {
            "attachments": {},
            "cell_type": "markdown",
            "metadata": {},
            "source": [
                "## Solving the model "
            ]
        },
        {
            "attachments": {},
            "cell_type": "markdown",
            "metadata": {},
            "source": [
                "## Finding the parameters in a model\n",
                "\n",
                "The `parameter` function of the `BaseModel` class can be used to obtain the parameters of a model."
            ]
        },
        {
            "cell_type": "code",
            "execution_count": 9,
            "metadata": {
                "scrolled": true
            },
            "outputs": [
                {
                    "data": {
                        "text/plain": [
                            "[Parameter(-0x7c3ebfeae2200290, Initial concentration [mol.m-3], children=[], domains={}),\n",
                            " InputParameter(-0x4a08933302b1e44e, Interfacial current density [A.m-2], children=[], domains={}),\n",
                            " FunctionParameter(0x66f7cbc27c44053b, Diffusion coefficient [m2.s-1], children=['Concentration [mol.m-3]'], domains={'primary': ['negative particle']})]"
                        ]
                    },
                    "execution_count": 9,
                    "metadata": {},
                    "output_type": "execute_result"
                }
            ],
            "source": [
                "parameters = model.parameters\n",
                "parameters"
            ]
        },
        {
            "attachments": {},
            "cell_type": "markdown",
            "metadata": {},
            "source": [
                "As explained in the [3-negative-particle-problem.ipynb](https://github.com/pybamm-team/PyBaMM/blob/develop/docs/source/examples/notebooks/creating_models/3-negative-particle-problem.ipynb) example, we first process both the `model` and the `geometry`."
            ]
        },
        {
            "cell_type": "code",
            "execution_count": 10,
            "metadata": {},
            "outputs": [],
            "source": [
                "param.process_model(model)\n",
                "param.process_geometry(geometry)"
            ]
        },
        {
            "attachments": {},
            "cell_type": "markdown",
            "metadata": {},
            "source": [
                "We can now set up our mesh, choose a spatial method, and discretise our model"
            ]
        },
        {
            "cell_type": "code",
            "execution_count": 11,
            "metadata": {},
            "outputs": [],
            "source": [
                "submesh_types = {\"negative particle\": pybamm.Uniform1DSubMesh}\n",
                "var_pts = {r: 20}\n",
                "mesh = pybamm.Mesh(geometry, submesh_types, var_pts)\n",
                "\n",
                "spatial_methods = {\"negative particle\": pybamm.FiniteVolume()}\n",
                "disc = pybamm.Discretisation(mesh, spatial_methods)\n",
                "disc.process_model(model);"
            ]
        },
        {
            "attachments": {},
            "cell_type": "markdown",
            "metadata": {},
            "source": [
                "We choose a solver and times at which we want the solution returned, and solve the model. Here we give a value for the current density `j`."
            ]
        },
        {
            "cell_type": "code",
            "execution_count": 12,
            "metadata": {},
            "outputs": [
                {
                    "data": {
                        "image/png": "[encoded data removed]",
                        "text/plain": [
                            "<Figure size 1300x400 with 2 Axes>"
                        ]
                    },
                    "metadata": {},
                    "output_type": "display_data"
                }
            ],
            "source": [
                "# solve\n",
                "solver = pybamm.ScipySolver()\n",
                "t = np.linspace(0, 3600, 600)\n",
                "solution = solver.solve(model, t, inputs={\"Interfacial current density [A.m-2]\": 1.4})\n",
                "\n",
                "# post-process, so that the solution can be called at any time t or space r\n",
                "# (using interpolation)\n",
                "c = solution[\"Concentration [mol.m-3]\"]\n",
                "c_surf = solution[\"Surface concentration [mol.m-3]\"]\n",
                "\n",
                "# plot\n",
                "fig, (ax1, ax2) = plt.subplots(1, 2, figsize=(13, 4))\n",
                "\n",
                "ax1.plot(solution.t, c_surf(solution.t))\n",
                "ax1.set_xlabel(\"Time [s]\")\n",
                "ax1.set_ylabel(\"Surface concentration [mol.m-3]\")\n",
                "\n",
                "rsol = mesh[\"negative particle\"].nodes # radial position\n",
                "time = 1000  # time in seconds\n",
                "ax2.plot(rsol * 1e6, c(t=time, r=rsol), label=\"t={}[s]\".format(time))\n",
                "ax2.set_xlabel(\"Particle radius [microns]\")\n",
                "ax2.set_ylabel(\"Concentration [mol.m-3]\")\n",
                "ax2.legend()\n",
                "\n",
                "plt.tight_layout()\n",
                "plt.show()"
            ]
        },
        {
            "attachments": {},
            "cell_type": "markdown",
            "metadata": {},
            "source": [
                "## Using pre-defined models in `PyBaMM`\n",
                "\n",
                "In the next few steps, we will be showing the same workflow with the Single Particle Model (`SPM`). We will also see how you can pass a function as a `parameter`'s value and how to plot such `parameter functions`.\n",
                "\n",
                "We start by initializing our model"
            ]
        },
        {
            "cell_type": "code",
            "execution_count": 13,
            "metadata": {},
            "outputs": [],
            "source": [
                "spm = pybamm.lithium_ion.SPM()"
            ]
        },
        {
            "attachments": {},
            "cell_type": "markdown",
            "metadata": {},
            "source": [
                "## Finding the parameters in a model\n",
                "\n",
                "We can print the `parameters` of a model by using the `get_parameters_info` function."
            ]
        },
        {
            "cell_type": "code",
            "execution_count": 14,
            "metadata": {},
            "outputs": [
                {
                    "name": "stdout",
                    "output_type": "stream",
                    "text": [
                        "Maximum concentration in positive electrode [mol.m-3] (Parameter)\n",
                        "Initial concentration in electrolyte [mol.m-3] (Parameter)\n",
                        "Separator thickness [m] (Parameter)\n",
                        "Positive electrode Bruggeman coefficient (electrode) (Parameter)\n",
                        "Negative electrode thickness [m] (Parameter)\n",
                        "Electrode height [m] (Parameter)\n",
                        "Negative electrode Bruggeman coefficient (electrode) (Parameter)\n",
                        "Number of cells connected in series to make a battery (Parameter)\n",
                        "Negative electrode Bruggeman coefficient (electrolyte) (Parameter)\n",
                        "Maximum concentration in negative electrode [mol.m-3] (Parameter)\n",
                        "Positive electrode Bruggeman coefficient (electrolyte) (Parameter)\n",
                        "Lower voltage cut-off [V] (Parameter)\n",
                        "Nominal cell capacity [A.h] (Parameter)\n",
                        "Typical electrolyte concentration [mol.m-3] (Parameter)\n",
                        "Upper voltage cut-off [V] (Parameter)\n",
                        "Positive electrode electrons in reaction (Parameter)\n",
                        "Negative electrode electrons in reaction (Parameter)\n",
                        "Initial temperature [K] (Parameter)\n",
                        "Reference temperature [K] (Parameter)\n",
                        "Positive electrode thickness [m] (Parameter)\n",
                        "Number of electrodes connected in parallel to make a cell (Parameter)\n",
                        "Electrode width [m] (Parameter)\n",
                        "Separator Bruggeman coefficient (electrolyte) (Parameter)\n",
                        "Positive particle radius [m] (FunctionParameter with input(s) 'Through-cell distance (x) [m]')\n",
                        "Positive electrode OCP [V] (FunctionParameter with input(s) 'Positive particle stoichiometry')\n",
                        "Separator porosity (FunctionParameter with input(s) 'Through-cell distance (x) [m]')\n",
                        "Current function [A] (FunctionParameter with input(s) 'Time[s]')\n",
                        "Negative electrode OCP [V] (FunctionParameter with input(s) 'Negative particle stoichiometry')\n",
                        "Negative electrode OCP entropic change [V.K-1] (FunctionParameter with input(s) 'Negative particle stoichiometry', 'Maximum negative particle surface concentration [mol.m-3]')\n",
                        "Ambient temperature [K] (FunctionParameter with input(s) 'Time [s]')\n",
                        "Negative particle radius [m] (FunctionParameter with input(s) 'Through-cell distance (x) [m]')\n",
                        "Positive electrode OCP entropic change [V.K-1] (FunctionParameter with input(s) 'Positive particle stoichiometry', 'Maximum positive particle surface concentration [mol.m-3]')\n",
                        "Negative electrode active material volume fraction (FunctionParameter with input(s) 'Through-cell distance (x) [m]')\n",
                        "Positive electrode active material volume fraction (FunctionParameter with input(s) 'Through-cell distance (x) [m]')\n",
                        "Initial concentration in positive electrode [mol.m-3] (FunctionParameter with input(s) 'Radial distance (r) [m]', 'Through-cell distance (x) [m]')\n",
                        "Negative electrode porosity (FunctionParameter with input(s) 'Through-cell distance (x) [m]')\n",
                        "Negative electrode diffusivity [m2.s-1] (FunctionParameter with input(s) 'Negative particle stoichiometry', 'Temperature [K]')\n",
                        "Negative electrode exchange-current density [A.m-2] (FunctionParameter with input(s) 'Electrolyte concentration [mol.m-3]', 'Negative particle surface concentration [mol.m-3]', 'Maximum negative particle surface concentration [mol.m-3]', 'Temperature [K]')\n",
                        "Initial concentration in negative electrode [mol.m-3] (FunctionParameter with input(s) 'Radial distance (r) [m]', 'Through-cell distance (x) [m]')\n",
                        "Positive electrode exchange-current density [A.m-2] (FunctionParameter with input(s) 'Electrolyte concentration [mol.m-3]', 'Positive particle surface concentration [mol.m-3]', 'Maximum positive particle surface concentration [mol.m-3]', 'Temperature [K]')\n",
                        "Positive electrode diffusivity [m2.s-1] (FunctionParameter with input(s) 'Positive particle stoichiometry', 'Temperature [K]')\n",
                        "Positive electrode porosity (FunctionParameter with input(s) 'Through-cell distance (x) [m]')\n",
                        "\n"
                    ]
                }
            ],
            "source": [
                "spm.print_parameter_info()"
            ]
        },
        {
            "attachments": {},
            "cell_type": "markdown",
            "metadata": {},
            "source": [
                "Note that there are no `InputParameter` objects in the default SPM. Also, note that if a `FunctionParameter` is expected, it is ok to provide a scalar (parameter) instead. However, if a `Parameter` is expected, you cannot provide a function instead."
            ]
        },
        {
            "attachments": {},
            "cell_type": "markdown",
            "metadata": {},
            "source": [
                "Another way to view what parameters are needed is to print the default parameter values. This can also be used to get some good defaults (but care must be taken when combining parameters across datasets and chemistries)"
            ]
        },
        {
            "cell_type": "code",
            "execution_count": 15,
            "metadata": {
                "scrolled": true
            },
            "outputs": [
                {
                    "data": {
                        "text/plain": [
                            "{'Negative electrode thickness [m]': 0.0001,\n",
                            " 'Separator thickness [m]': 2.5e-05,\n",
                            " 'Positive electrode thickness [m]': 0.0001,\n",
                            " 'Electrode height [m]': 0.137,\n",
                            " 'Electrode width [m]': 0.207,\n",
                            " 'Nominal cell capacity [A.h]': 0.680616,\n",
                            " 'Current function [A]': 0.680616,\n",
                            " 'Maximum concentration in negative electrode [mol.m-3]': 24983.2619938437,\n",
                            " 'Negative electrode diffusivity [m2.s-1]': <function pybamm.input.parameters.lithium_ion.Marquis2019.graphite_mcmb2528_diffusivity_Dualfoil1998(sto, T)>,\n",
                            " 'Negative electrode OCP [V]': <function pybamm.input.parameters.lithium_ion.Marquis2019.graphite_mcmb2528_ocp_Dualfoil1998(sto)>,\n",
                            " 'Negative electrode porosity': 0.3,\n",
                            " 'Negative electrode active material volume fraction': 0.6,\n",
                            " 'Negative particle radius [m]': 1e-05,\n",
                            " 'Negative electrode Bruggeman coefficient (electrolyte)': 1.5,\n",
                            " 'Negative electrode Bruggeman coefficient (electrode)': 1.5,\n",
                            " 'Negative electrode electrons in reaction': 1.0,\n",
                            " 'Negative electrode exchange-current density [A.m-2]': <function pybamm.input.parameters.lithium_ion.Marquis2019.graphite_electrolyte_exchange_current_density_Dualfoil1998(c_e, c_s_surf, c_s_max, T)>,\n",
                            " 'Negative electrode OCP entropic change [V.K-1]': <function pybamm.input.parameters.lithium_ion.Marquis2019.graphite_entropic_change_Moura2016(sto, c_s_max)>,\n",
                            " 'Maximum concentration in positive electrode [mol.m-3]': 51217.9257309275,\n",
                            " 'Positive electrode diffusivity [m2.s-1]': <function pybamm.input.parameters.lithium_ion.Marquis2019.lico2_diffusivity_Dualfoil1998(sto, T)>,\n",
                            " 'Positive electrode OCP [V]': <function pybamm.input.parameters.lithium_ion.Marquis2019.lico2_ocp_Dualfoil1998(sto)>,\n",
                            " 'Positive electrode porosity': 0.3,\n",
                            " 'Positive electrode active material volume fraction': 0.5,\n",
                            " 'Positive particle radius [m]': 1e-05,\n",
                            " 'Positive electrode Bruggeman coefficient (electrolyte)': 1.5,\n",
                            " 'Positive electrode Bruggeman coefficient (electrode)': 1.5,\n",
                            " 'Positive electrode electrons in reaction': 1.0,\n",
                            " 'Positive electrode exchange-current density [A.m-2]': <function pybamm.input.parameters.lithium_ion.Marquis2019.lico2_electrolyte_exchange_current_density_Dualfoil1998(c_e, c_s_surf, c_s_max, T)>,\n",
                            " 'Positive electrode OCP entropic change [V.K-1]': <function pybamm.input.parameters.lithium_ion.Marquis2019.lico2_entropic_change_Moura2016(sto, c_s_max)>,\n",
                            " 'Separator porosity': 1.0,\n",
                            " 'Separator Bruggeman coefficient (electrolyte)': 1.5,\n",
                            " 'Typical electrolyte concentration [mol.m-3]': 1000.0,\n",
                            " 'Initial concentration in electrolyte [mol.m-3]': 1000.0,\n",
                            " 'Reference temperature [K]': 298.15,\n",
                            " 'Ambient temperature [K]': 298.15,\n",
                            " 'Number of electrodes connected in parallel to make a cell': 1.0,\n",
                            " 'Number of cells connected in series to make a battery': 1.0,\n",
                            " 'Lower voltage cut-off [V]': 3.105,\n",
                            " 'Upper voltage cut-off [V]': 4.1,\n",
                            " 'Initial concentration in negative electrode [mol.m-3]': 19986.609595075,\n",
                            " 'Initial concentration in positive electrode [mol.m-3]': 30730.7554385565,\n",
                            " 'Initial temperature [K]': 298.15}"
                        ]
                    },
                    "execution_count": 15,
                    "metadata": {},
                    "output_type": "execute_result"
                }
            ],
            "source": [
                "{k: v for k,v in spm.default_parameter_values.items() if k in spm._parameter_info}"
            ]
        },
        {
            "attachments": {},
            "cell_type": "markdown",
            "metadata": {},
            "source": [
                "We now define a dictionary of values for `ParameterValues` as before (here, a subset of the `Chen2020` parameters)"
            ]
        },
        {
            "cell_type": "code",
            "execution_count": 16,
            "metadata": {},
            "outputs": [
                {
                    "data": {
                        "text/plain": [
                            "{'Ambient temperature [K]': 298.15,\n",
                            " 'Current function [A]': 5.0,\n",
                            " 'Electrode height [m]': 0.065,\n",
                            " 'Electrode width [m]': 1.58,\n",
                            " 'Initial concentration in negative electrode [mol.m-3]': 29866.0,\n",
                            " 'Initial concentration in positive electrode [mol.m-3]': 17038.0,\n",
                            " 'Initial temperature [K]': 298.15,\n",
                            " 'Lower voltage cut-off [V]': 2.5,\n",
                            " 'Maximum concentration in negative electrode [mol.m-3]': 33133.0,\n",
                            " 'Maximum concentration in positive electrode [mol.m-3]': 63104.0,\n",
                            " 'Negative electrode Bruggeman coefficient (electrode)': 1.5,\n",
                            " 'Negative electrode Bruggeman coefficient (electrolyte)': 1.5,\n",
                            " 'Negative electrode OCP [V]': ('graphite_LGM50_ocp_Chen2020',\n",
                            "                                ([array([0.        , 0.03129623, 0.03499902, 0.0387018 , 0.04240458,\n",
                            "       0.04610736, 0.04981015, 0.05351292, 0.05721568, 0.06091845,\n",
                            "       0.06462122, 0.06832399, 0.07202675, 0.07572951, 0.07943227,\n",
                            "       0.08313503, 0.08683779, 0.09054054, 0.09424331, 0.09794607,\n",
                            "       0.10164883, 0.10535158, 0.10905434, 0.1127571 , 0.11645985,\n",
                            "       0.12016261, 0.12386536, 0.12756811, 0.13127086, 0.13497362,\n",
                            "       0.13867638, 0.14237913, 0.14608189, 0.14978465, 0.15348741,\n",
                            "       0.15719018, 0.16089294, 0.1645957 , 0.16829847, 0.17200122,\n",
                            "       0.17570399, 0.17940674, 0.1831095 , 0.18681229, 0.19051504,\n",
                            "       0.1942178 , 0.19792056, 0.20162334, 0.2053261 , 0.20902886,\n",
                            "       0.21273164, 0.2164344 , 0.22013716, 0.22383993, 0.2275427 ,\n",
                            "       0.23124547, 0.23494825, 0.23865101, 0.24235377, 0.24605653,\n",
                            "       0.2497593 , 0.25346208, 0.25716486, 0.26086762, 0.26457039,\n",
                            "       0.26827314, 0.2719759 , 0.27567867, 0.27938144, 0.28308421,\n",
                            "       0.28678698, 0.29048974, 0.29419251, 0.29789529, 0.30159806,\n",
                            "       0.30530083, 0.30900361, 0.31270637, 0.31640913, 0.32011189,\n",
                            "       0.32381466, 0.32751744, 0.33122021, 0.33492297, 0.33862575,\n",
                            "       0.34232853, 0.34603131, 0.34973408, 0.35343685, 0.35713963,\n",
                            "       0.36084241, 0.36454517, 0.36824795, 0.37195071, 0.37565348,\n",
                            "       0.37935626, 0.38305904, 0.38676182, 0.3904646 , 0.39416737,\n",
                            "       0.39787015, 0.40157291, 0.40527567, 0.40897844, 0.41268121,\n",
                            "       0.41638398, 0.42008676, 0.42378953, 0.4274923 , 0.43119506,\n",
                            "       0.43489784, 0.43860061, 0.44230338, 0.44600615, 0.44970893,\n",
                            "       0.45341168, 0.45711444, 0.46081719, 0.46451994, 0.46822269,\n",
                            "       0.47192545, 0.47562821, 0.47933098, 0.48303375, 0.48673651,\n",
                            "       0.49043926, 0.49414203, 0.49784482, 0.50154759, 0.50525036,\n",
                            "       0.50895311, 0.51265586, 0.51635861, 0.52006139, 0.52376415,\n",
                            "       0.52746692, 0.53116969, 0.53487245, 0.53857521, 0.54227797,\n",
                            "       0.54598074, 0.5496835 , 0.55338627, 0.55708902, 0.56079178,\n",
                            "       0.56449454, 0.5681973 , 0.57190006, 0.57560282, 0.57930558,\n",
                            "       0.58300835, 0.58671112, 0.59041389, 0.59411664, 0.59781941,\n",
                            "       0.60152218, 0.60522496, 0.60892772, 0.61263048, 0.61633325,\n",
                            "       0.62003603, 0.6237388 , 0.62744156, 0.63114433, 0.63484711,\n",
                            "       0.63854988, 0.64225265, 0.64595543, 0.64965823, 0.653361  ,\n",
                            "       0.65706377, 0.66076656, 0.66446934, 0.66817212, 0.67187489,\n",
                            "       0.67557767, 0.67928044, 0.68298322, 0.686686  , 0.69038878,\n",
                            "       0.69409156, 0.69779433, 0.70149709, 0.70519988, 0.70890264,\n",
                            "       0.7126054 , 0.71630818, 0.72001095, 0.72371371, 0.72741648,\n",
                            "       0.73111925, 0.73482204, 0.7385248 , 0.74222757, 0.74593034,\n",
                            "       0.74963312, 0.75333589, 0.75703868, 0.76074146, 0.76444422,\n",
                            "       0.76814698, 0.77184976, 0.77555253, 0.77925531, 0.78295807,\n",
                            "       0.78666085, 0.79036364, 0.79406641, 0.79776918, 0.80147197,\n",
                            "       0.80517474, 0.80887751, 0.81258028, 0.81628304, 0.81998581,\n",
                            "       0.82368858, 0.82739136, 0.83109411, 0.83479688, 0.83849965,\n",
                            "       0.84220242, 0.84590519, 0.84960797, 0.85331075, 0.85701353,\n",
                            "       0.86071631, 0.86441907, 0.86812186, 0.87182464, 0.87552742,\n",
                            "       0.87923019, 0.88293296, 0.88663573, 0.89033849, 0.89404126,\n",
                            "       0.89774404, 0.9014468 , 1.        ])],\n",
                            "                                 array([1.81772748, 1.0828807 , 0.99593794, 0.90023398, 0.79649431,\n",
                            "       0.73354429, 0.66664314, 0.64137149, 0.59813869, 0.5670836 ,\n",
                            "       0.54746181, 0.53068399, 0.51304734, 0.49394092, 0.47926274,\n",
                            "       0.46065259, 0.45992726, 0.43801501, 0.42438665, 0.41150269,\n",
                            "       0.40033659, 0.38957134, 0.37756538, 0.36292541, 0.34357086,\n",
                            "       0.3406314 , 0.32299468, 0.31379458, 0.30795386, 0.29207319,\n",
                            "       0.28697687, 0.27405477, 0.2670497 , 0.25857493, 0.25265783,\n",
                            "       0.24826777, 0.2414345 , 0.23362778, 0.22956218, 0.22370236,\n",
                            "       0.22181271, 0.22089651, 0.2194268 , 0.21830064, 0.21845333,\n",
                            "       0.21753715, 0.21719357, 0.21635373, 0.21667822, 0.21738444,\n",
                            "       0.21469313, 0.21541846, 0.21465495, 0.2135479 , 0.21392964,\n",
                            "       0.21074206, 0.20873788, 0.20465319, 0.20205732, 0.19774358,\n",
                            "       0.19444147, 0.19190285, 0.18850531, 0.18581399, 0.18327537,\n",
                            "       0.18157659, 0.17814088, 0.17529686, 0.1719375 , 0.16934161,\n",
                            "       0.16756649, 0.16609676, 0.16414985, 0.16260378, 0.16224113,\n",
                            "       0.160027  , 0.15827096, 0.1588054 , 0.15552238, 0.15580869,\n",
                            "       0.15220118, 0.1511132 , 0.14987253, 0.14874637, 0.14678037,\n",
                            "       0.14620776, 0.14555879, 0.14389819, 0.14359279, 0.14242846,\n",
                            "       0.14038612, 0.13882096, 0.13954628, 0.13946992, 0.13780934,\n",
                            "       0.13973714, 0.13698858, 0.13523254, 0.13441178, 0.1352898 ,\n",
                            "       0.13507985, 0.13647321, 0.13601512, 0.13435452, 0.1334765 ,\n",
                            "       0.1348317 , 0.13275118, 0.13286571, 0.13263667, 0.13456447,\n",
                            "       0.13471718, 0.13395369, 0.13448814, 0.1334765 , 0.13298023,\n",
                            "       0.13259849, 0.13338107, 0.13309476, 0.13275118, 0.13443087,\n",
                            "       0.13315202, 0.132713  , 0.1330184 , 0.13278936, 0.13225491,\n",
                            "       0.13317111, 0.13263667, 0.13187316, 0.13265574, 0.13250305,\n",
                            "       0.13324745, 0.13204496, 0.13242669, 0.13233127, 0.13198769,\n",
                            "       0.13254122, 0.13145325, 0.13298023, 0.13168229, 0.1313578 ,\n",
                            "       0.13235036, 0.13120511, 0.13089971, 0.13109058, 0.13082336,\n",
                            "       0.13011713, 0.129869  , 0.12992626, 0.12942998, 0.12796026,\n",
                            "       0.12862831, 0.12656689, 0.12734947, 0.12509716, 0.12110791,\n",
                            "       0.11839751, 0.11244226, 0.11307214, 0.1092165 , 0.10683058,\n",
                            "       0.10433014, 0.10530359, 0.10056993, 0.09950104, 0.09854668,\n",
                            "       0.09921473, 0.09541635, 0.09980643, 0.0986612 , 0.09560722,\n",
                            "       0.09755413, 0.09612258, 0.09430929, 0.09661885, 0.09366032,\n",
                            "       0.09522548, 0.09535909, 0.09316404, 0.09450016, 0.0930877 ,\n",
                            "       0.09343126, 0.0932404 , 0.09350762, 0.09339309, 0.09291591,\n",
                            "       0.09303043, 0.0926296 , 0.0932404 , 0.09261052, 0.09249599,\n",
                            "       0.09240055, 0.09253416, 0.09209515, 0.09234329, 0.09366032,\n",
                            "       0.09333583, 0.09322131, 0.09264868, 0.09253416, 0.09243873,\n",
                            "       0.09230512, 0.09310678, 0.09165615, 0.09159888, 0.09207606,\n",
                            "       0.09175158, 0.09177067, 0.09236237, 0.09241964, 0.09320222,\n",
                            "       0.09199972, 0.09167523, 0.09322131, 0.09190428, 0.09167523,\n",
                            "       0.09285865, 0.09180884, 0.09150345, 0.09186611, 0.0920188 ,\n",
                            "       0.09320222, 0.09131257, 0.09117896, 0.09133166, 0.09089265,\n",
                            "       0.09058725, 0.09051091, 0.09033912, 0.09041547, 0.0911217 ,\n",
                            "       0.0894611 , 0.08999555, 0.08921297, 0.08881213, 0.08797229,\n",
                            "       0.08709427, 0.08503284, 0.07601531]))),\n",
                            " 'Negative electrode OCP entropic change [V.K-1]': 0.0,\n",
                            " 'Negative electrode active material volume fraction': 0.75,\n",
                            " 'Negative electrode diffusivity [m2.s-1]': 3.3e-14,\n",
                            " 'Negative electrode electrons in reaction': 1.0,\n",
                            " 'Negative electrode exchange-current density [A.m-2]': <function graphite_LGM50_electrolyte_exchange_current_density_Chen2020 at 0x14d04df70>,\n",
                            " 'Negative electrode porosity': 0.25,\n",
                            " 'Negative electrode thickness [m]': 8.52e-05,\n",
                            " 'Negative particle radius [m]': 5.86e-06,\n",
                            " 'Nominal cell capacity [A.h]': 5.0,\n",
                            " 'Number of cells connected in series to make a battery': 1.0,\n",
                            " 'Number of electrodes connected in parallel to make a cell': 1.0,\n",
                            " 'Positive electrode Bruggeman coefficient (electrode)': 1.5,\n",
                            " 'Positive electrode Bruggeman coefficient (electrolyte)': 1.5,\n",
                            " 'Positive electrode OCP [V]': ('nmc_LGM50_ocp_Chen2020',\n",
                            "                                ([array([0.24879728, 0.26614516, 0.26886763, 0.27159011, 0.27431258,\n",
                            "       0.27703505, 0.27975753, 0.28248   , 0.28520247, 0.28792495,\n",
                            "       0.29064743, 0.29336992, 0.29609239, 0.29881487, 0.30153735,\n",
                            "       0.30425983, 0.30698231, 0.30970478, 0.31242725, 0.31514973,\n",
                            "       0.3178722 , 0.32059466, 0.32331714, 0.32603962, 0.32876209,\n",
                            "       0.33148456, 0.33420703, 0.3369295 , 0.33965197, 0.34237446,\n",
                            "       0.34509694, 0.34781941, 0.3505419 , 0.35326438, 0.35598685,\n",
                            "       0.35870932, 0.3614318 , 0.36415428, 0.36687674, 0.36959921,\n",
                            "       0.37232169, 0.37504418, 0.37776665, 0.38048913, 0.38321161,\n",
                            "       0.38593408, 0.38865655, 0.39137903, 0.39410151, 0.39682398,\n",
                            "       0.39954645, 0.40226892, 0.4049914 , 0.40771387, 0.41043634,\n",
                            "       0.41315882, 0.41588129, 0.41860377, 0.42132624, 0.42404872,\n",
                            "       0.4267712 , 0.42949368, 0.43221616, 0.43493864, 0.43766111,\n",
                            "       0.44038359, 0.44310607, 0.44582856, 0.44855103, 0.45127351,\n",
                            "       0.453996  , 0.45671848, 0.45944095, 0.46216343, 0.46488592,\n",
                            "       0.46760838, 0.47033085, 0.47305333, 0.47577581, 0.47849828,\n",
                            "       0.48122074, 0.48394321, 0.48666569, 0.48938816, 0.49211064,\n",
                            "       0.4948331 , 0.49755557, 0.50027804, 0.50300052, 0.50572298,\n",
                            "       0.50844545, 0.51116792, 0.51389038, 0.51661284, 0.51933531,\n",
                            "       0.52205777, 0.52478024, 0.52750271, 0.53022518, 0.53294765,\n",
                            "       0.53567012, 0.53839258, 0.54111506, 0.54383753, 0.54656   ,\n",
                            "       0.54928247, 0.55200494, 0.5547274 , 0.55744986, 0.56017233,\n",
                            "       0.5628948 , 0.56561729, 0.56833976, 0.57106222, 0.57378469,\n",
                            "       0.57650716, 0.57922963, 0.5819521 , 0.58467456, 0.58739702,\n",
                            "       0.59011948, 0.59284194, 0.5955644 , 0.59828687, 0.60100935,\n",
                            "       0.60373182, 0.60645429, 0.60917677, 0.61189925, 0.61462172,\n",
                            "       0.61734419, 0.62006666, 0.62278914, 0.62551162, 0.62823408,\n",
                            "       0.63095656, 0.63367903, 0.6364015 , 0.63912397, 0.64184645,\n",
                            "       0.64456893, 0.6472914 , 0.65001389, 0.65273637, 0.65545884,\n",
                            "       0.65818131, 0.66090379, 0.66362625, 0.66634874, 0.66907121,\n",
                            "       0.67179369, 0.67451616, 0.67723865, 0.67996113, 0.68268361,\n",
                            "       0.68540608, 0.68812855, 0.69085103, 0.6935735 , 0.69629597,\n",
                            "       0.69901843, 0.7017409 , 0.70446338, 0.70718585, 0.70990833,\n",
                            "       0.71263081, 0.71535328, 0.71807574, 0.72079822, 0.72352069,\n",
                            "       0.72624317, 0.72896564, 0.7316881 , 0.73441057, 0.73713303,\n",
                            "       0.73985551, 0.74257799, 0.74530047, 0.74802293, 0.7507454 ,\n",
                            "       0.75346787, 0.75619034, 0.75891281, 0.76163529, 0.76435776,\n",
                            "       0.76708024, 0.7698027 , 0.77252517, 0.77524765, 0.77797012,\n",
                            "       0.78069258, 0.78341506, 0.78613753, 0.78885999, 0.79158246,\n",
                            "       0.79430494, 0.79702741, 0.79974987, 0.80247234, 0.8051948 ,\n",
                            "       0.80791727, 0.81063974, 0.81336221, 0.81608468, 0.81880714,\n",
                            "       0.82152961, 0.82425208, 0.82697453, 0.829697  , 0.83241946,\n",
                            "       0.83514192, 0.83786439, 0.84058684, 0.84330931, 0.84603177,\n",
                            "       0.84875424, 0.8514767 , 0.85419916, 0.85692162, 0.85964409,\n",
                            "       0.86236656, 0.86508902, 0.86781149, 0.87053395, 0.87325642,\n",
                            "       0.87597888, 0.87870135, 0.88142383, 0.8841463 , 0.88686877,\n",
                            "       0.88959124, 0.89231371, 0.8950362 , 0.89775868, 0.90048116,\n",
                            "       0.90320364, 0.90592613, 1.        ])],\n",
                            "                                 array([4.4       , 4.2935653 , 4.2768621 , 4.2647018 , 4.2540312 ,\n",
                            "       4.2449446 , 4.2364879 , 4.2302647 , 4.2225528 , 4.2182574 ,\n",
                            "       4.213294  , 4.2090373 , 4.2051239 , 4.2012677 , 4.1981564 ,\n",
                            "       4.1955218 , 4.1931167 , 4.1889744 , 4.1881533 , 4.1865883 ,\n",
                            "       4.1850228 , 4.1832285 , 4.1808805 , 4.1805749 , 4.1789522 ,\n",
                            "       4.1768146 , 4.1768146 , 4.1752872 , 4.173111  , 4.1726718 ,\n",
                            "       4.1710877 , 4.1702285 , 4.168797  , 4.1669831 , 4.1655135 ,\n",
                            "       4.1634517 , 4.1598248 , 4.1571712 , 4.154079  , 4.1504135 ,\n",
                            "       4.1466532 , 4.1423388 , 4.1382346 , 4.1338248 , 4.1305799 ,\n",
                            "       4.1272392 , 4.1228104 , 4.1186109 , 4.114182  , 4.1096005 ,\n",
                            "       4.1046948 , 4.1004758 , 4.0956464 , 4.0909696 , 4.0864644 ,\n",
                            "       4.0818448 , 4.077683  , 4.0733309 , 4.0690737 , 4.0647216 ,\n",
                            "       4.0608654 , 4.0564747 , 4.0527525 , 4.0492401 , 4.0450211 ,\n",
                            "       4.041986  , 4.0384736 , 4.035171  , 4.0320406 , 4.0289288 ,\n",
                            "       4.02597   , 4.0227437 , 4.0199757 , 4.0175133 , 4.0149746 ,\n",
                            "       4.0122066 , 4.009954  , 4.0075679 , 4.0050669 , 4.0023184 ,\n",
                            "       3.9995501 , 3.9969349 , 3.9926589 , 3.9889555 , 3.9834003 ,\n",
                            "       3.9783037 , 3.9755929 , 3.9707632 , 3.9681098 , 3.9635665 ,\n",
                            "       3.9594433 , 3.9556634 , 3.9521511 , 3.9479132 , 3.9438281 ,\n",
                            "       3.9400866 , 3.9362304 , 3.9314201 , 3.9283848 , 3.9242232 ,\n",
                            "       3.9192028 , 3.9166257 , 3.9117961 , 3.90815   , 3.9038739 ,\n",
                            "       3.8995597 , 3.8959136 , 3.8909314 , 3.8872662 , 3.8831048 ,\n",
                            "       3.8793442 , 3.8747628 , 3.8702576 , 3.8666878 , 3.8623927 ,\n",
                            "       3.8581741 , 3.854146  , 3.8499846 , 3.8450022 , 3.8422534 ,\n",
                            "       3.8380919 , 3.8341596 , 3.8309333 , 3.8272109 , 3.823164  ,\n",
                            "       3.8192315 , 3.8159864 , 3.8123021 , 3.8090379 , 3.8071671 ,\n",
                            "       3.8040555 , 3.8013639 , 3.7970879 , 3.7953317 , 3.7920673 ,\n",
                            "       3.788383  , 3.7855389 , 3.7838206 , 3.78111   , 3.7794874 ,\n",
                            "       3.7769294 , 3.773608  , 3.7695992 , 3.7690265 , 3.7662776 ,\n",
                            "       3.7642922 , 3.7626889 , 3.7603791 , 3.7575538 , 3.7552056 ,\n",
                            "       3.7533159 , 3.7507198 , 3.7487535 , 3.7471499 , 3.7442865 ,\n",
                            "       3.7423012 , 3.7400677 , 3.7385788 , 3.7345319 , 3.7339211 ,\n",
                            "       3.7301605 , 3.7301033 , 3.7278316 , 3.7251589 , 3.723861  ,\n",
                            "       3.7215703 , 3.7191267 , 3.7172751 , 3.7157097 , 3.7130945 ,\n",
                            "       3.7099447 , 3.7071004 , 3.7045615 , 3.703588  , 3.70208   ,\n",
                            "       3.7002664 , 3.6972122 , 3.6952841 , 3.6929362 , 3.6898055 ,\n",
                            "       3.6890991 , 3.686522  , 3.6849759 , 3.6821697 , 3.6808143 ,\n",
                            "       3.6786573 , 3.6761947 , 3.674763  , 3.6712887 , 3.6697233 ,\n",
                            "       3.6678908 , 3.6652565 , 3.6630611 , 3.660274  , 3.6583652 ,\n",
                            "       3.6554828 , 3.6522949 , 3.6499848 , 3.6470451 , 3.6405547 ,\n",
                            "       3.6383405 , 3.635076  , 3.633549  , 3.6322317 , 3.6306856 ,\n",
                            "       3.6283948 , 3.6268487 , 3.6243098 , 3.6223626 , 3.6193655 ,\n",
                            "       3.6177621 , 3.6158531 , 3.6128371 , 3.6118062 , 3.6094582 ,\n",
                            "       3.6072438 , 3.6049912 , 3.6030822 , 3.6012688 , 3.5995889 ,\n",
                            "       3.5976417 , 3.5951984 , 3.593843  , 3.5916286 , 3.5894907 ,\n",
                            "       3.587429  , 3.5852909 , 3.5834775 , 3.5817785 , 3.5801177 ,\n",
                            "       3.5778842 , 3.5763381 , 3.5737801 , 3.5721002 , 3.5702102 ,\n",
                            "       3.5684922 , 3.5672133 , 3.52302167]))),\n",
                            " 'Positive electrode OCP entropic change [V.K-1]': 0.0,\n",
                            " 'Positive electrode active material volume fraction': 0.665,\n",
                            " 'Positive electrode diffusivity [m2.s-1]': 4e-15,\n",
                            " 'Positive electrode electrons in reaction': 1.0,\n",
                            " 'Positive electrode exchange-current density [A.m-2]': <function nmc_LGM50_electrolyte_exchange_current_density_Chen2020 at 0x14d04d160>,\n",
                            " 'Positive electrode porosity': 0.335,\n",
                            " 'Positive electrode thickness [m]': 7.56e-05,\n",
                            " 'Positive particle radius [m]': 5.22e-06,\n",
                            " 'Reference temperature [K]': 298.15,\n",
                            " 'Separator Bruggeman coefficient (electrolyte)': 1.5,\n",
                            " 'Separator porosity': 0.47,\n",
                            " 'Separator thickness [m]': 1.2e-05,\n",
                            " 'Typical current [A]': 5.0,\n",
                            " 'Typical electrolyte concentration [mol.m-3]': 1000.0,\n",
                            " 'Upper voltage cut-off [V]': 4.4}"
                        ]
                    },
                    "execution_count": 16,
                    "metadata": {},
                    "output_type": "execute_result"
                }
            ],
            "source": [
                "def graphite_mcmb2528_diffusivity_Dualfoil1998(sto, T):\n",
                "    D_ref = 3.9 * 10 ** (-14)\n",
                "    E_D_s = 42770\n",
                "    arrhenius = exp(E_D_s / constants.R * (1 / 298.15 - 1 / T))\n",
                "    return D_ref * arrhenius\n",
                "\n",
                "neg_ocp = np.array([[0.        , 1.81772748],\n",
                "         [0.03129623, 1.0828807 ],\n",
                "         [0.03499902, 0.99593794],\n",
                "         [0.0387018 , 0.90023398],\n",
                "         [0.04240458, 0.79649431],\n",
                "         [0.04610736, 0.73354429],\n",
                "         [0.04981015, 0.66664314],\n",
                "         [0.05351292, 0.64137149],\n",
                "         [0.05721568, 0.59813869],\n",
                "         [0.06091845, 0.5670836 ],\n",
                "         [0.06462122, 0.54746181],\n",
                "         [0.06832399, 0.53068399],\n",
                "         [0.07202675, 0.51304734],\n",
                "         [0.07572951, 0.49394092],\n",
                "         [0.07943227, 0.47926274],\n",
                "         [0.08313503, 0.46065259],\n",
                "         [0.08683779, 0.45992726],\n",
                "         [0.09054054, 0.43801501],\n",
                "         [0.09424331, 0.42438665],\n",
                "         [0.09794607, 0.41150269],\n",
                "         [0.10164883, 0.40033659],\n",
                "         [0.10535158, 0.38957134],\n",
                "         [0.10905434, 0.37756538],\n",
                "         [0.1127571 , 0.36292541],\n",
                "         [0.11645985, 0.34357086],\n",
                "         [0.12016261, 0.3406314 ],\n",
                "         [0.12386536, 0.32299468],\n",
                "         [0.12756811, 0.31379458],\n",
                "         [0.13127086, 0.30795386],\n",
                "         [0.13497362, 0.29207319],\n",
                "         [0.13867638, 0.28697687],\n",
                "         [0.14237913, 0.27405477],\n",
                "         [0.14608189, 0.2670497 ],\n",
                "         [0.14978465, 0.25857493],\n",
                "         [0.15348741, 0.25265783],\n",
                "         [0.15719018, 0.24826777],\n",
                "         [0.16089294, 0.2414345 ],\n",
                "         [0.1645957 , 0.23362778],\n",
                "         [0.16829847, 0.22956218],\n",
                "         [0.17200122, 0.22370236],\n",
                "         [0.17570399, 0.22181271],\n",
                "         [0.17940674, 0.22089651],\n",
                "         [0.1831095 , 0.2194268 ],\n",
                "         [0.18681229, 0.21830064],\n",
                "         [0.19051504, 0.21845333],\n",
                "         [0.1942178 , 0.21753715],\n",
                "         [0.19792056, 0.21719357],\n",
                "         [0.20162334, 0.21635373],\n",
                "         [0.2053261 , 0.21667822],\n",
                "         [0.20902886, 0.21738444],\n",
                "         [0.21273164, 0.21469313],\n",
                "         [0.2164344 , 0.21541846],\n",
                "         [0.22013716, 0.21465495],\n",
                "         [0.22383993, 0.2135479 ],\n",
                "         [0.2275427 , 0.21392964],\n",
                "         [0.23124547, 0.21074206],\n",
                "         [0.23494825, 0.20873788],\n",
                "         [0.23865101, 0.20465319],\n",
                "         [0.24235377, 0.20205732],\n",
                "         [0.24605653, 0.19774358],\n",
                "         [0.2497593 , 0.19444147],\n",
                "         [0.25346208, 0.19190285],\n",
                "         [0.25716486, 0.18850531],\n",
                "         [0.26086762, 0.18581399],\n",
                "         [0.26457039, 0.18327537],\n",
                "         [0.26827314, 0.18157659],\n",
                "         [0.2719759 , 0.17814088],\n",
                "         [0.27567867, 0.17529686],\n",
                "         [0.27938144, 0.1719375 ],\n",
                "         [0.28308421, 0.16934161],\n",
                "         [0.28678698, 0.16756649],\n",
                "         [0.29048974, 0.16609676],\n",
                "         [0.29419251, 0.16414985],\n",
                "         [0.29789529, 0.16260378],\n",
                "         [0.30159806, 0.16224113],\n",
                "         [0.30530083, 0.160027  ],\n",
                "         [0.30900361, 0.15827096],\n",
                "         [0.31270637, 0.1588054 ],\n",
                "         [0.31640913, 0.15552238],\n",
                "         [0.32011189, 0.15580869],\n",
                "         [0.32381466, 0.15220118],\n",
                "         [0.32751744, 0.1511132 ],\n",
                "         [0.33122021, 0.14987253],\n",
                "         [0.33492297, 0.14874637],\n",
                "         [0.33862575, 0.14678037],\n",
                "         [0.34232853, 0.14620776],\n",
                "         [0.34603131, 0.14555879],\n",
                "         [0.34973408, 0.14389819],\n",
                "         [0.35343685, 0.14359279],\n",
                "         [0.35713963, 0.14242846],\n",
                "         [0.36084241, 0.14038612],\n",
                "         [0.36454517, 0.13882096],\n",
                "         [0.36824795, 0.13954628],\n",
                "         [0.37195071, 0.13946992],\n",
                "         [0.37565348, 0.13780934],\n",
                "         [0.37935626, 0.13973714],\n",
                "         [0.38305904, 0.13698858],\n",
                "         [0.38676182, 0.13523254],\n",
                "         [0.3904646 , 0.13441178],\n",
                "         [0.39416737, 0.1352898 ],\n",
                "         [0.39787015, 0.13507985],\n",
                "         [0.40157291, 0.13647321],\n",
                "         [0.40527567, 0.13601512],\n",
                "         [0.40897844, 0.13435452],\n",
                "         [0.41268121, 0.1334765 ],\n",
                "         [0.41638398, 0.1348317 ],\n",
                "         [0.42008676, 0.13275118],\n",
                "         [0.42378953, 0.13286571],\n",
                "         [0.4274923 , 0.13263667],\n",
                "         [0.43119506, 0.13456447],\n",
                "         [0.43489784, 0.13471718],\n",
                "         [0.43860061, 0.13395369],\n",
                "         [0.44230338, 0.13448814],\n",
                "         [0.44600615, 0.1334765 ],\n",
                "         [0.44970893, 0.13298023],\n",
                "         [0.45341168, 0.13259849],\n",
                "         [0.45711444, 0.13338107],\n",
                "         [0.46081719, 0.13309476],\n",
                "         [0.46451994, 0.13275118],\n",
                "         [0.46822269, 0.13443087],\n",
                "         [0.47192545, 0.13315202],\n",
                "         [0.47562821, 0.132713  ],\n",
                "         [0.47933098, 0.1330184 ],\n",
                "         [0.48303375, 0.13278936],\n",
                "         [0.48673651, 0.13225491],\n",
                "         [0.49043926, 0.13317111],\n",
                "         [0.49414203, 0.13263667],\n",
                "         [0.49784482, 0.13187316],\n",
                "         [0.50154759, 0.13265574],\n",
                "         [0.50525036, 0.13250305],\n",
                "         [0.50895311, 0.13324745],\n",
                "         [0.51265586, 0.13204496],\n",
                "         [0.51635861, 0.13242669],\n",
                "         [0.52006139, 0.13233127],\n",
                "         [0.52376415, 0.13198769],\n",
                "         [0.52746692, 0.13254122],\n",
                "         [0.53116969, 0.13145325],\n",
                "         [0.53487245, 0.13298023],\n",
                "         [0.53857521, 0.13168229],\n",
                "         [0.54227797, 0.1313578 ],\n",
                "         [0.54598074, 0.13235036],\n",
                "         [0.5496835 , 0.13120511],\n",
                "         [0.55338627, 0.13089971],\n",
                "         [0.55708902, 0.13109058],\n",
                "         [0.56079178, 0.13082336],\n",
                "         [0.56449454, 0.13011713],\n",
                "         [0.5681973 , 0.129869  ],\n",
                "         [0.57190006, 0.12992626],\n",
                "         [0.57560282, 0.12942998],\n",
                "         [0.57930558, 0.12796026],\n",
                "         [0.58300835, 0.12862831],\n",
                "         [0.58671112, 0.12656689],\n",
                "         [0.59041389, 0.12734947],\n",
                "         [0.59411664, 0.12509716],\n",
                "         [0.59781941, 0.12110791],\n",
                "         [0.60152218, 0.11839751],\n",
                "         [0.60522496, 0.11244226],\n",
                "         [0.60892772, 0.11307214],\n",
                "         [0.61263048, 0.1092165 ],\n",
                "         [0.61633325, 0.10683058],\n",
                "         [0.62003603, 0.10433014],\n",
                "         [0.6237388 , 0.10530359],\n",
                "         [0.62744156, 0.10056993],\n",
                "         [0.63114433, 0.09950104],\n",
                "         [0.63484711, 0.09854668],\n",
                "         [0.63854988, 0.09921473],\n",
                "         [0.64225265, 0.09541635],\n",
                "         [0.64595543, 0.09980643],\n",
                "         [0.64965823, 0.0986612 ],\n",
                "         [0.653361  , 0.09560722],\n",
                "         [0.65706377, 0.09755413],\n",
                "         [0.66076656, 0.09612258],\n",
                "         [0.66446934, 0.09430929],\n",
                "         [0.66817212, 0.09661885],\n",
                "         [0.67187489, 0.09366032],\n",
                "         [0.67557767, 0.09522548],\n",
                "         [0.67928044, 0.09535909],\n",
                "         [0.68298322, 0.09316404],\n",
                "         [0.686686  , 0.09450016],\n",
                "         [0.69038878, 0.0930877 ],\n",
                "         [0.69409156, 0.09343126],\n",
                "         [0.69779433, 0.0932404 ],\n",
                "         [0.70149709, 0.09350762],\n",
                "         [0.70519988, 0.09339309],\n",
                "         [0.70890264, 0.09291591],\n",
                "         [0.7126054 , 0.09303043],\n",
                "         [0.71630818, 0.0926296 ],\n",
                "         [0.72001095, 0.0932404 ],\n",
                "         [0.72371371, 0.09261052],\n",
                "         [0.72741648, 0.09249599],\n",
                "         [0.73111925, 0.09240055],\n",
                "         [0.73482204, 0.09253416],\n",
                "         [0.7385248 , 0.09209515],\n",
                "         [0.74222757, 0.09234329],\n",
                "         [0.74593034, 0.09366032],\n",
                "         [0.74963312, 0.09333583],\n",
                "         [0.75333589, 0.09322131],\n",
                "         [0.75703868, 0.09264868],\n",
                "         [0.76074146, 0.09253416],\n",
                "         [0.76444422, 0.09243873],\n",
                "         [0.76814698, 0.09230512],\n",
                "         [0.77184976, 0.09310678],\n",
                "         [0.77555253, 0.09165615],\n",
                "         [0.77925531, 0.09159888],\n",
                "         [0.78295807, 0.09207606],\n",
                "         [0.78666085, 0.09175158],\n",
                "         [0.79036364, 0.09177067],\n",
                "         [0.79406641, 0.09236237],\n",
                "         [0.79776918, 0.09241964],\n",
                "         [0.80147197, 0.09320222],\n",
                "         [0.80517474, 0.09199972],\n",
                "         [0.80887751, 0.09167523],\n",
                "         [0.81258028, 0.09322131],\n",
                "         [0.81628304, 0.09190428],\n",
                "         [0.81998581, 0.09167523],\n",
                "         [0.82368858, 0.09285865],\n",
                "         [0.82739136, 0.09180884],\n",
                "         [0.83109411, 0.09150345],\n",
                "         [0.83479688, 0.09186611],\n",
                "         [0.83849965, 0.0920188 ],\n",
                "         [0.84220242, 0.09320222],\n",
                "         [0.84590519, 0.09131257],\n",
                "         [0.84960797, 0.09117896],\n",
                "         [0.85331075, 0.09133166],\n",
                "         [0.85701353, 0.09089265],\n",
                "         [0.86071631, 0.09058725],\n",
                "         [0.86441907, 0.09051091],\n",
                "         [0.86812186, 0.09033912],\n",
                "         [0.87182464, 0.09041547],\n",
                "         [0.87552742, 0.0911217 ],\n",
                "         [0.87923019, 0.0894611 ],\n",
                "         [0.88293296, 0.08999555],\n",
                "         [0.88663573, 0.08921297],\n",
                "         [0.89033849, 0.08881213],\n",
                "         [0.89404126, 0.08797229],\n",
                "         [0.89774404, 0.08709427],\n",
                "         [0.9014468 , 0.08503284],\n",
                "         [1.        , 0.07601531]])\n",
                "\n",
                "pos_ocp = np.array([[0.24879728, 4.4       ],\n",
                "         [0.26614516, 4.2935653 ],\n",
                "         [0.26886763, 4.2768621 ],\n",
                "         [0.27159011, 4.2647018 ],\n",
                "         [0.27431258, 4.2540312 ],\n",
                "         [0.27703505, 4.2449446 ],\n",
                "         [0.27975753, 4.2364879 ],\n",
                "         [0.28248   , 4.2302647 ],\n",
                "         [0.28520247, 4.2225528 ],\n",
                "         [0.28792495, 4.2182574 ],\n",
                "         [0.29064743, 4.213294  ],\n",
                "         [0.29336992, 4.2090373 ],\n",
                "         [0.29609239, 4.2051239 ],\n",
                "         [0.29881487, 4.2012677 ],\n",
                "         [0.30153735, 4.1981564 ],\n",
                "         [0.30425983, 4.1955218 ],\n",
                "         [0.30698231, 4.1931167 ],\n",
                "         [0.30970478, 4.1889744 ],\n",
                "         [0.31242725, 4.1881533 ],\n",
                "         [0.31514973, 4.1865883 ],\n",
                "         [0.3178722 , 4.1850228 ],\n",
                "         [0.32059466, 4.1832285 ],\n",
                "         [0.32331714, 4.1808805 ],\n",
                "         [0.32603962, 4.1805749 ],\n",
                "         [0.32876209, 4.1789522 ],\n",
                "         [0.33148456, 4.1768146 ],\n",
                "         [0.33420703, 4.1768146 ],\n",
                "         [0.3369295 , 4.1752872 ],\n",
                "         [0.33965197, 4.173111  ],\n",
                "         [0.34237446, 4.1726718 ],\n",
                "         [0.34509694, 4.1710877 ],\n",
                "         [0.34781941, 4.1702285 ],\n",
                "         [0.3505419 , 4.168797  ],\n",
                "         [0.35326438, 4.1669831 ],\n",
                "         [0.35598685, 4.1655135 ],\n",
                "         [0.35870932, 4.1634517 ],\n",
                "         [0.3614318 , 4.1598248 ],\n",
                "         [0.36415428, 4.1571712 ],\n",
                "         [0.36687674, 4.154079  ],\n",
                "         [0.36959921, 4.1504135 ],\n",
                "         [0.37232169, 4.1466532 ],\n",
                "         [0.37504418, 4.1423388 ],\n",
                "         [0.37776665, 4.1382346 ],\n",
                "         [0.38048913, 4.1338248 ],\n",
                "         [0.38321161, 4.1305799 ],\n",
                "         [0.38593408, 4.1272392 ],\n",
                "         [0.38865655, 4.1228104 ],\n",
                "         [0.39137903, 4.1186109 ],\n",
                "         [0.39410151, 4.114182  ],\n",
                "         [0.39682398, 4.1096005 ],\n",
                "         [0.39954645, 4.1046948 ],\n",
                "         [0.40226892, 4.1004758 ],\n",
                "         [0.4049914 , 4.0956464 ],\n",
                "         [0.40771387, 4.0909696 ],\n",
                "         [0.41043634, 4.0864644 ],\n",
                "         [0.41315882, 4.0818448 ],\n",
                "         [0.41588129, 4.077683  ],\n",
                "         [0.41860377, 4.0733309 ],\n",
                "         [0.42132624, 4.0690737 ],\n",
                "         [0.42404872, 4.0647216 ],\n",
                "         [0.4267712 , 4.0608654 ],\n",
                "         [0.42949368, 4.0564747 ],\n",
                "         [0.43221616, 4.0527525 ],\n",
                "         [0.43493864, 4.0492401 ],\n",
                "         [0.43766111, 4.0450211 ],\n",
                "         [0.44038359, 4.041986  ],\n",
                "         [0.44310607, 4.0384736 ],\n",
                "         [0.44582856, 4.035171  ],\n",
                "         [0.44855103, 4.0320406 ],\n",
                "         [0.45127351, 4.0289288 ],\n",
                "         [0.453996  , 4.02597   ],\n",
                "         [0.45671848, 4.0227437 ],\n",
                "         [0.45944095, 4.0199757 ],\n",
                "         [0.46216343, 4.0175133 ],\n",
                "         [0.46488592, 4.0149746 ],\n",
                "         [0.46760838, 4.0122066 ],\n",
                "         [0.47033085, 4.009954  ],\n",
                "         [0.47305333, 4.0075679 ],\n",
                "         [0.47577581, 4.0050669 ],\n",
                "         [0.47849828, 4.0023184 ],\n",
                "         [0.48122074, 3.9995501 ],\n",
                "         [0.48394321, 3.9969349 ],\n",
                "         [0.48666569, 3.9926589 ],\n",
                "         [0.48938816, 3.9889555 ],\n",
                "         [0.49211064, 3.9834003 ],\n",
                "         [0.4948331 , 3.9783037 ],\n",
                "         [0.49755557, 3.9755929 ],\n",
                "         [0.50027804, 3.9707632 ],\n",
                "         [0.50300052, 3.9681098 ],\n",
                "         [0.50572298, 3.9635665 ],\n",
                "         [0.50844545, 3.9594433 ],\n",
                "         [0.51116792, 3.9556634 ],\n",
                "         [0.51389038, 3.9521511 ],\n",
                "         [0.51661284, 3.9479132 ],\n",
                "         [0.51933531, 3.9438281 ],\n",
                "         [0.52205777, 3.9400866 ],\n",
                "         [0.52478024, 3.9362304 ],\n",
                "         [0.52750271, 3.9314201 ],\n",
                "         [0.53022518, 3.9283848 ],\n",
                "         [0.53294765, 3.9242232 ],\n",
                "         [0.53567012, 3.9192028 ],\n",
                "         [0.53839258, 3.9166257 ],\n",
                "         [0.54111506, 3.9117961 ],\n",
                "         [0.54383753, 3.90815   ],\n",
                "         [0.54656   , 3.9038739 ],\n",
                "         [0.54928247, 3.8995597 ],\n",
                "         [0.55200494, 3.8959136 ],\n",
                "         [0.5547274 , 3.8909314 ],\n",
                "         [0.55744986, 3.8872662 ],\n",
                "         [0.56017233, 3.8831048 ],\n",
                "         [0.5628948 , 3.8793442 ],\n",
                "         [0.56561729, 3.8747628 ],\n",
                "         [0.56833976, 3.8702576 ],\n",
                "         [0.57106222, 3.8666878 ],\n",
                "         [0.57378469, 3.8623927 ],\n",
                "         [0.57650716, 3.8581741 ],\n",
                "         [0.57922963, 3.854146  ],\n",
                "         [0.5819521 , 3.8499846 ],\n",
                "         [0.58467456, 3.8450022 ],\n",
                "         [0.58739702, 3.8422534 ],\n",
                "         [0.59011948, 3.8380919 ],\n",
                "         [0.59284194, 3.8341596 ],\n",
                "         [0.5955644 , 3.8309333 ],\n",
                "         [0.59828687, 3.8272109 ],\n",
                "         [0.60100935, 3.823164  ],\n",
                "         [0.60373182, 3.8192315 ],\n",
                "         [0.60645429, 3.8159864 ],\n",
                "         [0.60917677, 3.8123021 ],\n",
                "         [0.61189925, 3.8090379 ],\n",
                "         [0.61462172, 3.8071671 ],\n",
                "         [0.61734419, 3.8040555 ],\n",
                "         [0.62006666, 3.8013639 ],\n",
                "         [0.62278914, 3.7970879 ],\n",
                "         [0.62551162, 3.7953317 ],\n",
                "         [0.62823408, 3.7920673 ],\n",
                "         [0.63095656, 3.788383  ],\n",
                "         [0.63367903, 3.7855389 ],\n",
                "         [0.6364015 , 3.7838206 ],\n",
                "         [0.63912397, 3.78111   ],\n",
                "         [0.64184645, 3.7794874 ],\n",
                "         [0.64456893, 3.7769294 ],\n",
                "         [0.6472914 , 3.773608  ],\n",
                "         [0.65001389, 3.7695992 ],\n",
                "         [0.65273637, 3.7690265 ],\n",
                "         [0.65545884, 3.7662776 ],\n",
                "         [0.65818131, 3.7642922 ],\n",
                "         [0.66090379, 3.7626889 ],\n",
                "         [0.66362625, 3.7603791 ],\n",
                "         [0.66634874, 3.7575538 ],\n",
                "         [0.66907121, 3.7552056 ],\n",
                "         [0.67179369, 3.7533159 ],\n",
                "         [0.67451616, 3.7507198 ],\n",
                "         [0.67723865, 3.7487535 ],\n",
                "         [0.67996113, 3.7471499 ],\n",
                "         [0.68268361, 3.7442865 ],\n",
                "         [0.68540608, 3.7423012 ],\n",
                "         [0.68812855, 3.7400677 ],\n",
                "         [0.69085103, 3.7385788 ],\n",
                "         [0.6935735 , 3.7345319 ],\n",
                "         [0.69629597, 3.7339211 ],\n",
                "         [0.69901843, 3.7301605 ],\n",
                "         [0.7017409 , 3.7301033 ],\n",
                "         [0.70446338, 3.7278316 ],\n",
                "         [0.70718585, 3.7251589 ],\n",
                "         [0.70990833, 3.723861  ],\n",
                "         [0.71263081, 3.7215703 ],\n",
                "         [0.71535328, 3.7191267 ],\n",
                "         [0.71807574, 3.7172751 ],\n",
                "         [0.72079822, 3.7157097 ],\n",
                "         [0.72352069, 3.7130945 ],\n",
                "         [0.72624317, 3.7099447 ],\n",
                "         [0.72896564, 3.7071004 ],\n",
                "         [0.7316881 , 3.7045615 ],\n",
                "         [0.73441057, 3.703588  ],\n",
                "         [0.73713303, 3.70208   ],\n",
                "         [0.73985551, 3.7002664 ],\n",
                "         [0.74257799, 3.6972122 ],\n",
                "         [0.74530047, 3.6952841 ],\n",
                "         [0.74802293, 3.6929362 ],\n",
                "         [0.7507454 , 3.6898055 ],\n",
                "         [0.75346787, 3.6890991 ],\n",
                "         [0.75619034, 3.686522  ],\n",
                "         [0.75891281, 3.6849759 ],\n",
                "         [0.76163529, 3.6821697 ],\n",
                "         [0.76435776, 3.6808143 ],\n",
                "         [0.76708024, 3.6786573 ],\n",
                "         [0.7698027 , 3.6761947 ],\n",
                "         [0.77252517, 3.674763  ],\n",
                "         [0.77524765, 3.6712887 ],\n",
                "         [0.77797012, 3.6697233 ],\n",
                "         [0.78069258, 3.6678908 ],\n",
                "         [0.78341506, 3.6652565 ],\n",
                "         [0.78613753, 3.6630611 ],\n",
                "         [0.78885999, 3.660274  ],\n",
                "         [0.79158246, 3.6583652 ],\n",
                "         [0.79430494, 3.6554828 ],\n",
                "         [0.79702741, 3.6522949 ],\n",
                "         [0.79974987, 3.6499848 ],\n",
                "         [0.80247234, 3.6470451 ],\n",
                "         [0.8051948 , 3.6405547 ],\n",
                "         [0.80791727, 3.6383405 ],\n",
                "         [0.81063974, 3.635076  ],\n",
                "         [0.81336221, 3.633549  ],\n",
                "         [0.81608468, 3.6322317 ],\n",
                "         [0.81880714, 3.6306856 ],\n",
                "         [0.82152961, 3.6283948 ],\n",
                "         [0.82425208, 3.6268487 ],\n",
                "         [0.82697453, 3.6243098 ],\n",
                "         [0.829697  , 3.6223626 ],\n",
                "         [0.83241946, 3.6193655 ],\n",
                "         [0.83514192, 3.6177621 ],\n",
                "         [0.83786439, 3.6158531 ],\n",
                "         [0.84058684, 3.6128371 ],\n",
                "         [0.84330931, 3.6118062 ],\n",
                "         [0.84603177, 3.6094582 ],\n",
                "         [0.84875424, 3.6072438 ],\n",
                "         [0.8514767 , 3.6049912 ],\n",
                "         [0.85419916, 3.6030822 ],\n",
                "         [0.85692162, 3.6012688 ],\n",
                "         [0.85964409, 3.5995889 ],\n",
                "         [0.86236656, 3.5976417 ],\n",
                "         [0.86508902, 3.5951984 ],\n",
                "         [0.86781149, 3.593843  ],\n",
                "         [0.87053395, 3.5916286 ],\n",
                "         [0.87325642, 3.5894907 ],\n",
                "         [0.87597888, 3.587429  ],\n",
                "         [0.87870135, 3.5852909 ],\n",
                "         [0.88142383, 3.5834775 ],\n",
                "         [0.8841463 , 3.5817785 ],\n",
                "         [0.88686877, 3.5801177 ],\n",
                "         [0.88959124, 3.5778842 ],\n",
                "         [0.89231371, 3.5763381 ],\n",
                "         [0.8950362 , 3.5737801 ],\n",
                "         [0.89775868, 3.5721002 ],\n",
                "         [0.90048116, 3.5702102 ],\n",
                "         [0.90320364, 3.5684922 ],\n",
                "         [0.90592613, 3.5672133 ],\n",
                "         [1.        , 3.52302167]])\n",
                "\n",
                "from pybamm import exp, constants\n",
                "\n",
                "\n",
                "def graphite_LGM50_electrolyte_exchange_current_density_Chen2020(c_e, c_s_surf, c_n_max, T):\n",
                "    m_ref = 6.48e-7  # (A/m2)(m3/mol)**1.5 - includes ref concentrations\n",
                "    E_r = 35000\n",
                "    arrhenius = exp(E_r / constants.R * (1 / 298.15 - 1 / T))\n",
                "\n",
                "    return (\n",
                "        m_ref * arrhenius * c_e ** 0.5 * c_s_surf ** 0.5 * (c_n_max - c_s_surf) ** 0.5\n",
                "    )\n",
                "\n",
                "def nmc_LGM50_electrolyte_exchange_current_density_Chen2020(c_e, c_s_surf, c_p_max, T):\n",
                "    m_ref = 3.42e-6  # (A/m2)(m3/mol)**1.5 - includes ref concentrations\n",
                "    E_r = 17800\n",
                "    arrhenius = exp(E_r / constants.R * (1 / 298.15 - 1 / T))\n",
                "\n",
                "    return (\n",
                "        m_ref * arrhenius * c_e ** 0.5 * c_s_surf ** 0.5 * (c_p_max - c_s_surf) ** 0.5\n",
                "    )\n",
                "\n",
                "\n",
                "values = {\n",
                " 'Negative electrode thickness [m]': 8.52e-05,\n",
                " 'Separator thickness [m]': 1.2e-05,\n",
                " 'Positive electrode thickness [m]': 7.56e-05,\n",
                " 'Electrode height [m]': 0.065,\n",
                " 'Electrode width [m]': 1.58,\n",
                " 'Nominal cell capacity [A.h]': 5.0,\n",
                " 'Typical current [A]': 5.0,\n",
                " 'Current function [A]': 5.0,\n",
                " 'Maximum concentration in negative electrode [mol.m-3]': 33133.0,\n",
                " 'Negative electrode diffusivity [m2.s-1]': 3.3e-14,\n",
                " 'Negative electrode OCP [V]': ('graphite_LGM50_ocp_Chen2020', neg_ocp),\n",
                " 'Negative electrode porosity': 0.25,\n",
                " 'Negative electrode active material volume fraction': 0.75,\n",
                " 'Negative particle radius [m]': 5.86e-06,\n",
                " 'Negative electrode Bruggeman coefficient (electrolyte)': 1.5,\n",
                " 'Negative electrode Bruggeman coefficient (electrode)': 1.5,\n",
                " 'Negative electrode electrons in reaction': 1.0,\n",
                " 'Negative electrode exchange-current density [A.m-2]': graphite_LGM50_electrolyte_exchange_current_density_Chen2020,\n",
                " 'Negative electrode OCP entropic change [V.K-1]': 0.0,\n",
                " 'Maximum concentration in positive electrode [mol.m-3]': 63104.0,\n",
                " 'Positive electrode diffusivity [m2.s-1]': 4e-15,\n",
                " 'Positive electrode OCP [V]': ('nmc_LGM50_ocp_Chen2020', pos_ocp),\n",
                " 'Positive electrode porosity': 0.335,\n",
                " 'Positive electrode active material volume fraction': 0.665,\n",
                " 'Positive particle radius [m]': 5.22e-06,\n",
                " 'Positive electrode Bruggeman coefficient (electrolyte)': 1.5,\n",
                " 'Positive electrode Bruggeman coefficient (electrode)': 1.5,\n",
                " 'Positive electrode electrons in reaction': 1.0,\n",
                " 'Positive electrode exchange-current density [A.m-2]': nmc_LGM50_electrolyte_exchange_current_density_Chen2020,\n",
                " 'Positive electrode OCP entropic change [V.K-1]': 0.0,\n",
                " 'Separator porosity': 0.47,\n",
                " 'Separator Bruggeman coefficient (electrolyte)': 1.5,\n",
                " 'Typical electrolyte concentration [mol.m-3]': 1000.0,\n",
                " 'Reference temperature [K]': 298.15,\n",
                " 'Ambient temperature [K]': 298.15,\n",
                " 'Number of electrodes connected in parallel to make a cell': 1.0,\n",
                " 'Number of cells connected in series to make a battery': 1.0,\n",
                " 'Lower voltage cut-off [V]': 2.5,\n",
                " 'Upper voltage cut-off [V]': 4.4,\n",
                " \"Initial concentration in electrolyte [mol.m-3]\": 1000,\n",
                " 'Initial concentration in negative electrode [mol.m-3]': 29866.0,\n",
                " 'Initial concentration in positive electrode [mol.m-3]': 17038.0,\n",
                " 'Initial temperature [K]': 298.15\n",
                "}\n",
                "param = pybamm.ParameterValues(values)\n",
                "param"
            ]
        },
        {
            "attachments": {},
            "cell_type": "markdown",
            "metadata": {},
            "source": [
                "Here we would have got the same result by doing"
            ]
        },
        {
            "cell_type": "code",
            "execution_count": 17,
            "metadata": {},
            "outputs": [
                {
                    "data": {
                        "text/plain": [
                            "{'Negative electrode thickness [m]': 8.52e-05,\n",
                            " 'Separator thickness [m]': 1.2e-05,\n",
                            " 'Positive electrode thickness [m]': 7.56e-05,\n",
                            " 'Electrode height [m]': 0.065,\n",
                            " 'Electrode width [m]': 1.58,\n",
                            " 'Nominal cell capacity [A.h]': 5.0,\n",
                            " 'Current function [A]': 5.0,\n",
                            " 'Maximum concentration in negative electrode [mol.m-3]': 33133.0,\n",
                            " 'Negative electrode diffusivity [m2.s-1]': 3.3e-14,\n",
                            " 'Negative electrode OCP [V]': <function pybamm.input.parameters.lithium_ion.Chen2020.graphite_LGM50_ocp_Chen2020(sto)>,\n",
                            " 'Negative electrode porosity': 0.25,\n",
                            " 'Negative electrode active material volume fraction': 0.75,\n",
                            " 'Negative particle radius [m]': 5.86e-06,\n",
                            " 'Negative electrode Bruggeman coefficient (electrolyte)': 1.5,\n",
                            " 'Negative electrode Bruggeman coefficient (electrode)': 0,\n",
                            " 'Negative electrode electrons in reaction': 1.0,\n",
                            " 'Negative electrode exchange-current density [A.m-2]': <function pybamm.input.parameters.lithium_ion.Chen2020.graphite_LGM50_electrolyte_exchange_current_density_Chen2020(c_e, c_s_surf, c_s_max, T)>,\n",
                            " 'Negative electrode OCP entropic change [V.K-1]': 0.0,\n",
                            " 'Maximum concentration in positive electrode [mol.m-3]': 63104.0,\n",
                            " 'Positive electrode diffusivity [m2.s-1]': 4e-15,\n",
                            " 'Positive electrode OCP [V]': <function pybamm.input.parameters.lithium_ion.Chen2020.nmc_LGM50_ocp_Chen2020(sto)>,\n",
                            " 'Positive electrode porosity': 0.335,\n",
                            " 'Positive electrode active material volume fraction': 0.665,\n",
                            " 'Positive particle radius [m]': 5.22e-06,\n",
                            " 'Positive electrode Bruggeman coefficient (electrolyte)': 1.5,\n",
                            " 'Positive electrode Bruggeman coefficient (electrode)': 0,\n",
                            " 'Positive electrode electrons in reaction': 1.0,\n",
                            " 'Positive electrode exchange-current density [A.m-2]': <function pybamm.input.parameters.lithium_ion.Chen2020.nmc_LGM50_electrolyte_exchange_current_density_Chen2020(c_e, c_s_surf, c_s_max, T)>,\n",
                            " 'Positive electrode OCP entropic change [V.K-1]': 0.0,\n",
                            " 'Separator porosity': 0.47,\n",
                            " 'Separator Bruggeman coefficient (electrolyte)': 1.5,\n",
                            " 'Typical electrolyte concentration [mol.m-3]': 1000.0,\n",
                            " 'Initial concentration in electrolyte [mol.m-3]': 1000.0,\n",
                            " 'Reference temperature [K]': 298.15,\n",
                            " 'Ambient temperature [K]': 298.15,\n",
                            " 'Number of electrodes connected in parallel to make a cell': 1.0,\n",
                            " 'Number of cells connected in series to make a battery': 1.0,\n",
                            " 'Lower voltage cut-off [V]': 2.5,\n",
                            " 'Upper voltage cut-off [V]': 4.2,\n",
                            " 'Initial concentration in negative electrode [mol.m-3]': 29866.0,\n",
                            " 'Initial concentration in positive electrode [mol.m-3]': 17038.0,\n",
                            " 'Initial temperature [K]': 298.15}"
                        ]
                    },
                    "execution_count": 17,
                    "metadata": {},
                    "output_type": "execute_result"
                }
            ],
            "source": [
                "param_same = pybamm.ParameterValues(\"Chen2020\")\n",
                "{k: v for k,v in param_same.items() if k in spm._parameter_info}"
            ]
        },
        {
            "attachments": {},
            "cell_type": "markdown",
            "metadata": {},
            "source": [
                "## Updating a specific parameter"
            ]
        },
        {
            "attachments": {},
            "cell_type": "markdown",
            "metadata": {},
            "source": [
                "Once a parameter set has been defined (either via a dictionary or a pre-built set), single parameters can be updated"
            ]
        },
        {
            "attachments": {},
            "cell_type": "markdown",
            "metadata": {},
            "source": [
                "### Using a constant value:"
            ]
        },
        {
            "cell_type": "code",
            "execution_count": 18,
            "metadata": {},
            "outputs": [
                {
                    "name": "stdout",
                    "output_type": "stream",
                    "text": [
                        "Current function [A]\t5.0\n"
                    ]
                },
                {
                    "data": {
                        "text/plain": [
                            "4.0"
                        ]
                    },
                    "execution_count": 18,
                    "metadata": {},
                    "output_type": "execute_result"
                }
            ],
            "source": [
                "param.search(\"Current function [A]\")\n",
                "\n",
                "param.update({\"Current function [A]\": 4.0})\n",
                "\n",
                "param[\"Current function [A]\"]"
            ]
        },
        {
            "attachments": {},
            "cell_type": "markdown",
            "metadata": {},
            "source": [
                "### Using a function:"
            ]
        },
        {
            "cell_type": "code",
            "execution_count": 19,
            "metadata": {},
            "outputs": [
                {
                    "data": {
                        "text/plain": [
                            "<function __main__.curren_func(time)>"
                        ]
                    },
                    "execution_count": 19,
                    "metadata": {},
                    "output_type": "execute_result"
                }
            ],
            "source": [
                "def curren_func(time):\n",
                "    return 1 + pybamm.sin(2 * np.pi * time / 60)\n",
                "\n",
                "param.update({\"Current function [A]\": curren_func})\n",
                "\n",
                "param[\"Current function [A]\"]"
            ]
        },
        {
            "attachments": {},
            "cell_type": "markdown",
            "metadata": {},
            "source": [
                "## Plotting parameter functions\n",
                "\n",
                "As seen above, functions can be passed as parameter values. These parameter values can then be plotted by using `pybamm.plot`"
            ]
        },
        {
            "attachments": {},
            "cell_type": "markdown",
            "metadata": {},
            "source": [
                "### Plotting \"Current function \\[A]\""
            ]
        },
        {
            "cell_type": "code",
            "execution_count": 20,
            "metadata": {},
            "outputs": [
                {
                    "data": {
                        "image/png": "[encoded data removed]",
                        "text/plain": [
                            "<Figure size 640x480 with 1 Axes>"
                        ]
                    },
                    "metadata": {},
                    "output_type": "display_data"
                },
                {
                    "data": {
                        "text/plain": [
                            "<AxesSubplot: >"
                        ]
                    },
                    "execution_count": 20,
                    "metadata": {},
                    "output_type": "execute_result"
                }
            ],
            "source": [
                "currentfunc = param[\"Current function [A]\"]\n",
                "time = pybamm.linspace(0, 120, 60)\n",
                "evaluated = param.evaluate(currentfunc(time))\n",
                "evaluated = pybamm.Array(evaluated)\n",
                "pybamm.plot(time, evaluated)\n"
            ]
        },
        {
            "attachments": {},
            "cell_type": "markdown",
            "metadata": {},
            "source": [
                "Taking another such example:\n",
                "\n",
                "### Plotting \"Negative electrode exchange-current density \\[A.m-2]\""
            ]
        },
        {
            "cell_type": "code",
            "execution_count": 21,
            "metadata": {},
            "outputs": [
                {
                    "data": {
                        "image/png": "[encoded data removed]",
                        "text/plain": [
                            "<Figure size 640x480 with 1 Axes>"
                        ]
                    },
                    "metadata": {},
                    "output_type": "display_data"
                },
                {
                    "data": {
                        "text/plain": [
                            "<AxesSubplot: >"
                        ]
                    },
                    "execution_count": 21,
                    "metadata": {},
                    "output_type": "execute_result"
                }
            ],
            "source": [
                "negative_electrode_exchange_current_density = param[\"Negative electrode exchange-current density [A.m-2]\"]\n",
                "x = pybamm.linspace(3000,6000,100)\n",
                "c_n_max = param[\"Maximum concentration in negative electrode [mol.m-3]\"]\n",
                "evaluated = param.evaluate(negative_electrode_exchange_current_density(1000,x,c_n_max,300))\n",
                "evaluated = pybamm.Array(evaluated)\n",
                "pybamm.plot(x, evaluated)\n"
            ]
        },
        {
            "attachments": {},
            "cell_type": "markdown",
            "metadata": {},
            "source": [
                "## Simulating and solving the model\n",
                "\n",
                "Finally we can simulate the model and solve it using `pybamm.Simulation` and `solve` respectively."
            ]
        },
        {
            "cell_type": "code",
            "execution_count": 22,
            "metadata": {},
            "outputs": [
                {
                    "ename": "KeyError",
                    "evalue": "\"'Initial concentration in electrolyte [mol.m-3]' not found. Best matches are ['Initial concentration in positive electrode [mol.m-3]', 'Initial concentration in negative electrode [mol.m-3]', 'Maximum concentration in positive electrode [mol.m-3]']\"",
                    "output_type": "error",
                    "traceback": [
                        "\u001b[0;31m---------------------------------------------------------------------------\u001b[0m",
                        "\u001b[0;31mKeyError\u001b[0m                                  Traceback (most recent call last)",
                        "File \u001b[0;32m~/Code/PyBaMM/pybamm/parameters/parameter_values.py:609\u001b[0m, in \u001b[0;36mParameterValues.process_symbol\u001b[0;34m(self, symbol)\u001b[0m\n\u001b[1;32m    608\u001b[0m \u001b[39mtry\u001b[39;00m:\n\u001b[0;32m--> 609\u001b[0m     \u001b[39mreturn\u001b[39;00m \u001b[39mself\u001b[39;49m\u001b[39m.\u001b[39;49m_processed_symbols[symbol]\n\u001b[1;32m    610\u001b[0m \u001b[39mexcept\u001b[39;00m \u001b[39mKeyError\u001b[39;00m:\n",
                        "\u001b[0;31mKeyError\u001b[0m: PrimaryBroadcast(0x55db2b43f3b99d37, broadcast, children=['(0.00017234666524563961 * Ambient temperature [K] / Positive electrode electrons in reaction) * arcsinh(-Current function [A] / (Number of electrodes connected in parallel to make a cell * Electrode width [m] * Electrode height [m]) / Positive electrode thickness [m] / x-average(3.0 * Positive electrode active material volume fraction / Positive particle radius [m]) / (2.0 * Positive electrode exchange-current density [A.m-2])) + Positive electrode OCP [V] + 1e-06 * (1.0 / (maximum(minimum(boundary value(X-averaged positive particle concentration [mol.m-3]) / Maximum concentration in positive electrode [mol.m-3], 0.9999999999), 1e-10)) + 1.0 / (-1.0 + maximum(minimum(boundary value(X-averaged positive particle concentration [mol.m-3]) / Maximum concentration in positive electrode [mol.m-3], 0.9999999999), 1e-10))) + (Ambient temperature [K] - Reference temperature [K]) * Positive electrode OCP entropic change [V.K-1] - ((0.00017234666524563961 * Ambient temperature [K] / Negative electrode electrons in reaction) * arcsinh(Current function [A] / (Number of electrodes connected in parallel to make a cell * Electrode width [m] * Electrode height [m]) / Negative electrode thickness [m] / x-average(3.0 * Negative electrode active material volume fraction / Negative particle radius [m]) / (2.0 * Negative electrode exchange-current density [A.m-2])) + Negative electrode OCP [V] + 1e-06 * (1.0 / (maximum(minimum(boundary value(X-averaged negative particle concentration [mol.m-3]) / Maximum concentration in negative electrode [mol.m-3], 0.9999999999), 1e-10)) + 1.0 / (-1.0 + maximum(minimum(boundary value(X-averaged negative particle concentration [mol.m-3]) / Maximum concentration in negative electrode [mol.m-3], 0.9999999999), 1e-10))) + (Ambient temperature [K] - Reference temperature [K]) * Negative electrode OCP entropic change [V.K-1])'], domains={'primary': ['positive electrode'], 'secondary': ['current collector']})",
                        "\nDuring handling of the above exception, another exception occurred:\n",
                        "\u001b[0;31mKeyError\u001b[0m                                  Traceback (most recent call last)",
                        "File \u001b[0;32m~/Code/PyBaMM/pybamm/parameters/parameter_values.py:609\u001b[0m, in \u001b[0;36mParameterValues.process_symbol\u001b[0;34m(self, symbol)\u001b[0m\n\u001b[1;32m    608\u001b[0m \u001b[39mtry\u001b[39;00m:\n\u001b[0;32m--> 609\u001b[0m     \u001b[39mreturn\u001b[39;00m \u001b[39mself\u001b[39;49m\u001b[39m.\u001b[39;49m_processed_symbols[symbol]\n\u001b[1;32m    610\u001b[0m \u001b[39mexcept\u001b[39;00m \u001b[39mKeyError\u001b[39;00m:\n",
                        "\u001b[0;31mKeyError\u001b[0m: Subtraction(0x6e57fdf0f90fdbb0, -, children=['(0.00017234666524563961 * Ambient temperature [K] / Positive electrode electrons in reaction) * arcsinh(-Current function [A] / (Number of electrodes connected in parallel to make a cell * Electrode width [m] * Electrode height [m]) / Positive electrode thickness [m] / x-average(3.0 * Positive electrode active material volume fraction / Positive particle radius [m]) / (2.0 * Positive electrode exchange-current density [A.m-2])) + Positive electrode OCP [V] + 1e-06 * (1.0 / (maximum(minimum(boundary value(X-averaged positive particle concentration [mol.m-3]) / Maximum concentration in positive electrode [mol.m-3], 0.9999999999), 1e-10)) + 1.0 / (-1.0 + maximum(minimum(boundary value(X-averaged positive particle concentration [mol.m-3]) / Maximum concentration in positive electrode [mol.m-3], 0.9999999999), 1e-10))) + (Ambient temperature [K] - Reference temperature [K]) * Positive electrode OCP entropic change [V.K-1]', '(0.00017234666524563961 * Ambient temperature [K] / Negative electrode electrons in reaction) * arcsinh(Current function [A] / (Number of electrodes connected in parallel to make a cell * Electrode width [m] * Electrode height [m]) / Negative electrode thickness [m] / x-average(3.0 * Negative electrode active material volume fraction / Negative particle radius [m]) / (2.0 * Negative electrode exchange-current density [A.m-2])) + Negative electrode OCP [V] + 1e-06 * (1.0 / (maximum(minimum(boundary value(X-averaged negative particle concentration [mol.m-3]) / Maximum concentration in negative electrode [mol.m-3], 0.9999999999), 1e-10)) + 1.0 / (-1.0 + maximum(minimum(boundary value(X-averaged negative particle concentration [mol.m-3]) / Maximum concentration in negative electrode [mol.m-3], 0.9999999999), 1e-10))) + (Ambient temperature [K] - Reference temperature [K]) * Negative electrode OCP entropic change [V.K-1]'], domains={'primary': ['current collector']})",
                        "\nDuring handling of the above exception, another exception occurred:\n",
                        "\u001b[0;31mKeyError\u001b[0m                                  Traceback (most recent call last)",
                        "File \u001b[0;32m~/Code/PyBaMM/pybamm/parameters/parameter_values.py:609\u001b[0m, in \u001b[0;36mParameterValues.process_symbol\u001b[0;34m(self, symbol)\u001b[0m\n\u001b[1;32m    608\u001b[0m \u001b[39mtry\u001b[39;00m:\n\u001b[0;32m--> 609\u001b[0m     \u001b[39mreturn\u001b[39;00m \u001b[39mself\u001b[39;49m\u001b[39m.\u001b[39;49m_processed_symbols[symbol]\n\u001b[1;32m    610\u001b[0m \u001b[39mexcept\u001b[39;00m \u001b[39mKeyError\u001b[39;00m:\n",
                        "\u001b[0;31mKeyError\u001b[0m: Addition(-0x524f51ed4f620efd, +, children=['(0.00017234666524563961 * Ambient temperature [K] / Positive electrode electrons in reaction) * arcsinh(-Current function [A] / (Number of electrodes connected in parallel to make a cell * Electrode width [m] * Electrode height [m]) / Positive electrode thickness [m] / x-average(3.0 * Positive electrode active material volume fraction / Positive particle radius [m]) / (2.0 * Positive electrode exchange-current density [A.m-2]))', 'Positive electrode OCP [V] + 1e-06 * (1.0 / (maximum(minimum(boundary value(X-averaged positive particle concentration [mol.m-3]) / Maximum concentration in positive electrode [mol.m-3], 0.9999999999), 1e-10)) + 1.0 / (-1.0 + maximum(minimum(boundary value(X-averaged positive particle concentration [mol.m-3]) / Maximum concentration in positive electrode [mol.m-3], 0.9999999999), 1e-10))) + (Ambient temperature [K] - Reference temperature [K]) * Positive electrode OCP entropic change [V.K-1]'], domains={'primary': ['current collector']})",
                        "\nDuring handling of the above exception, another exception occurred:\n",
                        "\u001b[0;31mKeyError\u001b[0m                                  Traceback (most recent call last)",
                        "File \u001b[0;32m~/Code/PyBaMM/pybamm/parameters/parameter_values.py:609\u001b[0m, in \u001b[0;36mParameterValues.process_symbol\u001b[0;34m(self, symbol)\u001b[0m\n\u001b[1;32m    608\u001b[0m \u001b[39mtry\u001b[39;00m:\n\u001b[0;32m--> 609\u001b[0m     \u001b[39mreturn\u001b[39;00m \u001b[39mself\u001b[39;49m\u001b[39m.\u001b[39;49m_processed_symbols[symbol]\n\u001b[1;32m    610\u001b[0m \u001b[39mexcept\u001b[39;00m \u001b[39mKeyError\u001b[39;00m:\n",
                        "\u001b[0;31mKeyError\u001b[0m: Multiplication(-0x36e2f7f52718fd84, *, children=['0.00017234666524563961 * Ambient temperature [K] / Positive electrode electrons in reaction', 'arcsinh(-Current function [A] / (Number of electrodes connected in parallel to make a cell * Electrode width [m] * Electrode height [m]) / Positive electrode thickness [m] / x-average(3.0 * Positive electrode active material volume fraction / Positive particle radius [m]) / (2.0 * Positive electrode exchange-current density [A.m-2]))'], domains={'primary': ['current collector']})",
                        "\nDuring handling of the above exception, another exception occurred:\n",
                        "\u001b[0;31mKeyError\u001b[0m                                  Traceback (most recent call last)",
                        "File \u001b[0;32m~/Code/PyBaMM/pybamm/parameters/parameter_values.py:609\u001b[0m, in \u001b[0;36mParameterValues.process_symbol\u001b[0;34m(self, symbol)\u001b[0m\n\u001b[1;32m    608\u001b[0m \u001b[39mtry\u001b[39;00m:\n\u001b[0;32m--> 609\u001b[0m     \u001b[39mreturn\u001b[39;00m \u001b[39mself\u001b[39;49m\u001b[39m.\u001b[39;49m_processed_symbols[symbol]\n\u001b[1;32m    610\u001b[0m \u001b[39mexcept\u001b[39;00m \u001b[39mKeyError\u001b[39;00m:\n",
                        "\u001b[0;31mKeyError\u001b[0m: Arcsinh(-0x70bcbae05a17171a, function (arcsinh), children=['-Current function [A] / (Number of electrodes connected in parallel to make a cell * Electrode width [m] * Electrode height [m]) / Positive electrode thickness [m] / x-average(3.0 * Positive electrode active material volume fraction / Positive particle radius [m]) / (2.0 * Positive electrode exchange-current density [A.m-2])'], domains={'primary': ['current collector']})",
                        "\nDuring handling of the above exception, another exception occurred:\n",
                        "\u001b[0;31mKeyError\u001b[0m                                  Traceback (most recent call last)",
                        "File \u001b[0;32m~/Code/PyBaMM/pybamm/parameters/parameter_values.py:609\u001b[0m, in \u001b[0;36mParameterValues.process_symbol\u001b[0;34m(self, symbol)\u001b[0m\n\u001b[1;32m    608\u001b[0m \u001b[39mtry\u001b[39;00m:\n\u001b[0;32m--> 609\u001b[0m     \u001b[39mreturn\u001b[39;00m \u001b[39mself\u001b[39;49m\u001b[39m.\u001b[39;49m_processed_symbols[symbol]\n\u001b[1;32m    610\u001b[0m \u001b[39mexcept\u001b[39;00m \u001b[39mKeyError\u001b[39;00m:\n",
                        "\u001b[0;31mKeyError\u001b[0m: Division(0x2d06e4ce68936693, /, children=['-Current function [A] / (Number of electrodes connected in parallel to make a cell * Electrode width [m] * Electrode height [m]) / Positive electrode thickness [m] / x-average(3.0 * Positive electrode active material volume fraction / Positive particle radius [m])', '2.0 * Positive electrode exchange-current density [A.m-2]'], domains={'primary': ['current collector']})",
                        "\nDuring handling of the above exception, another exception occurred:\n",
                        "\u001b[0;31mKeyError\u001b[0m                                  Traceback (most recent call last)",
                        "File \u001b[0;32m~/Code/PyBaMM/pybamm/parameters/parameter_values.py:609\u001b[0m, in \u001b[0;36mParameterValues.process_symbol\u001b[0;34m(self, symbol)\u001b[0m\n\u001b[1;32m    608\u001b[0m \u001b[39mtry\u001b[39;00m:\n\u001b[0;32m--> 609\u001b[0m     \u001b[39mreturn\u001b[39;00m \u001b[39mself\u001b[39;49m\u001b[39m.\u001b[39;49m_processed_symbols[symbol]\n\u001b[1;32m    610\u001b[0m \u001b[39mexcept\u001b[39;00m \u001b[39mKeyError\u001b[39;00m:\n",
                        "\u001b[0;31mKeyError\u001b[0m: Multiplication(-0x533055788c0787e9, *, children=['2.0', 'Positive electrode exchange-current density [A.m-2]'], domains={'primary': ['current collector']})",
                        "\nDuring handling of the above exception, another exception occurred:\n",
                        "\u001b[0;31mKeyError\u001b[0m                                  Traceback (most recent call last)",
                        "File \u001b[0;32m~/Code/PyBaMM/pybamm/parameters/parameter_values.py:609\u001b[0m, in \u001b[0;36mParameterValues.process_symbol\u001b[0;34m(self, symbol)\u001b[0m\n\u001b[1;32m    608\u001b[0m \u001b[39mtry\u001b[39;00m:\n\u001b[0;32m--> 609\u001b[0m     \u001b[39mreturn\u001b[39;00m \u001b[39mself\u001b[39;49m\u001b[39m.\u001b[39;49m_processed_symbols[symbol]\n\u001b[1;32m    610\u001b[0m \u001b[39mexcept\u001b[39;00m \u001b[39mKeyError\u001b[39;00m:\n",
                        "\u001b[0;31mKeyError\u001b[0m: FunctionParameter(0x79a3a2c645f54668, Positive electrode exchange-current density [A.m-2], children=['maximum(Initial concentration in electrolyte [mol.m-3], 1e-08)', 'maximum(minimum(boundary value(X-averaged positive particle concentration [mol.m-3]), 0.99999999 * Maximum concentration in positive electrode [mol.m-3]), 1e-08 * Maximum concentration in positive electrode [mol.m-3])', 'Maximum concentration in positive electrode [mol.m-3]', 'broadcast(Ambient temperature [K])'], domains={'primary': ['current collector']})",
                        "\nDuring handling of the above exception, another exception occurred:\n",
                        "\u001b[0;31mKeyError\u001b[0m                                  Traceback (most recent call last)",
                        "File \u001b[0;32m~/Code/PyBaMM/pybamm/parameters/parameter_values.py:609\u001b[0m, in \u001b[0;36mParameterValues.process_symbol\u001b[0;34m(self, symbol)\u001b[0m\n\u001b[1;32m    608\u001b[0m \u001b[39mtry\u001b[39;00m:\n\u001b[0;32m--> 609\u001b[0m     \u001b[39mreturn\u001b[39;00m \u001b[39mself\u001b[39;49m\u001b[39m.\u001b[39;49m_processed_symbols[symbol]\n\u001b[1;32m    610\u001b[0m \u001b[39mexcept\u001b[39;00m \u001b[39mKeyError\u001b[39;00m:\n",
                        "\u001b[0;31mKeyError\u001b[0m: Maximum(-0x10b1c06354524acc, maximum, children=['Initial concentration in electrolyte [mol.m-3]', '1e-08'], domains={})",
                        "\nDuring handling of the above exception, another exception occurred:\n",
                        "\u001b[0;31mKeyError\u001b[0m                                  Traceback (most recent call last)",
                        "File \u001b[0;32m~/Code/PyBaMM/pybamm/parameters/parameter_values.py:609\u001b[0m, in \u001b[0;36mParameterValues.process_symbol\u001b[0;34m(self, symbol)\u001b[0m\n\u001b[1;32m    608\u001b[0m \u001b[39mtry\u001b[39;00m:\n\u001b[0;32m--> 609\u001b[0m     \u001b[39mreturn\u001b[39;00m \u001b[39mself\u001b[39;49m\u001b[39m.\u001b[39;49m_processed_symbols[symbol]\n\u001b[1;32m    610\u001b[0m \u001b[39mexcept\u001b[39;00m \u001b[39mKeyError\u001b[39;00m:\n",
                        "\u001b[0;31mKeyError\u001b[0m: Parameter(-0x23a8868071606836, Initial concentration in electrolyte [mol.m-3], children=[], domains={})",
                        "\nDuring handling of the above exception, another exception occurred:\n",
                        "\u001b[0;31mKeyError\u001b[0m                                  Traceback (most recent call last)",
                        "File \u001b[0;32m~/Code/PyBaMM/pybamm/util.py:58\u001b[0m, in \u001b[0;36mFuzzyDict.__getitem__\u001b[0;34m(self, key)\u001b[0m\n\u001b[1;32m     57\u001b[0m \u001b[39mtry\u001b[39;00m:\n\u001b[0;32m---> 58\u001b[0m     \u001b[39mreturn\u001b[39;00m \u001b[39msuper\u001b[39;49m()\u001b[39m.\u001b[39;49m\u001b[39m__getitem__\u001b[39;49m(key)\n\u001b[1;32m     59\u001b[0m \u001b[39mexcept\u001b[39;00m \u001b[39mKeyError\u001b[39;00m:\n",
                        "\u001b[0;31mKeyError\u001b[0m: 'Initial concentration in electrolyte [mol.m-3]'",
                        "\nDuring handling of the above exception, another exception occurred:\n",
                        "\u001b[0;31mKeyError\u001b[0m                                  Traceback (most recent call last)",
                        "Cell \u001b[0;32mIn[22], line 3\u001b[0m\n\u001b[1;32m      1\u001b[0m sim \u001b[39m=\u001b[39m pybamm\u001b[39m.\u001b[39mSimulation(spm, parameter_values\u001b[39m=\u001b[39mparam)\n\u001b[1;32m      2\u001b[0m t_eval \u001b[39m=\u001b[39m np\u001b[39m.\u001b[39marange(\u001b[39m0\u001b[39m, \u001b[39m3600\u001b[39m, \u001b[39m1\u001b[39m)\n\u001b[0;32m----> 3\u001b[0m sim\u001b[39m.\u001b[39;49msolve(t_eval\u001b[39m=\u001b[39;49mt_eval)\n\u001b[1;32m      4\u001b[0m sim\u001b[39m.\u001b[39mplot()\n",
                        "File \u001b[0;32m~/Code/PyBaMM/pybamm/simulation.py:559\u001b[0m, in \u001b[0;36mSimulation.solve\u001b[0;34m(self, t_eval, solver, check_model, save_at_cycles, calc_esoh, starting_solution, initial_soc, callbacks, **kwargs)\u001b[0m\n\u001b[1;32m    556\u001b[0m logs \u001b[39m=\u001b[39m {}\n\u001b[1;32m    558\u001b[0m \u001b[39mif\u001b[39;00m \u001b[39mself\u001b[39m\u001b[39m.\u001b[39moperating_mode \u001b[39min\u001b[39;00m [\u001b[39m\"\u001b[39m\u001b[39mwithout experiment\u001b[39m\u001b[39m\"\u001b[39m, \u001b[39m\"\u001b[39m\u001b[39mdrive cycle\u001b[39m\u001b[39m\"\u001b[39m]:\n\u001b[0;32m--> 559\u001b[0m     \u001b[39mself\u001b[39;49m\u001b[39m.\u001b[39;49mbuild(check_model\u001b[39m=\u001b[39;49mcheck_model, initial_soc\u001b[39m=\u001b[39;49minitial_soc)\n\u001b[1;32m    560\u001b[0m     \u001b[39mif\u001b[39;00m save_at_cycles \u001b[39mis\u001b[39;00m \u001b[39mnot\u001b[39;00m \u001b[39mNone\u001b[39;00m:\n\u001b[1;32m    561\u001b[0m         \u001b[39mraise\u001b[39;00m \u001b[39mValueError\u001b[39;00m(\n\u001b[1;32m    562\u001b[0m             \u001b[39m\"\u001b[39m\u001b[39m'\u001b[39m\u001b[39msave_at_cycles\u001b[39m\u001b[39m'\u001b[39m\u001b[39m option can only be used if simulating an \u001b[39m\u001b[39m\"\u001b[39m\n\u001b[1;32m    563\u001b[0m             \u001b[39m\"\u001b[39m\u001b[39mExperiment \u001b[39m\u001b[39m\"\u001b[39m\n\u001b[1;32m    564\u001b[0m         )\n",
                        "File \u001b[0;32m~/Code/PyBaMM/pybamm/simulation.py:449\u001b[0m, in \u001b[0;36mSimulation.build\u001b[0;34m(self, check_model, initial_soc)\u001b[0m\n\u001b[1;32m    447\u001b[0m     \u001b[39mself\u001b[39m\u001b[39m.\u001b[39m_built_model \u001b[39m=\u001b[39m \u001b[39mself\u001b[39m\u001b[39m.\u001b[39mmodel\n\u001b[1;32m    448\u001b[0m \u001b[39melse\u001b[39;00m:\n\u001b[0;32m--> 449\u001b[0m     \u001b[39mself\u001b[39;49m\u001b[39m.\u001b[39;49mset_parameters()\n\u001b[1;32m    450\u001b[0m     \u001b[39mself\u001b[39m\u001b[39m.\u001b[39m_mesh \u001b[39m=\u001b[39m pybamm\u001b[39m.\u001b[39mMesh(\u001b[39mself\u001b[39m\u001b[39m.\u001b[39m_geometry, \u001b[39mself\u001b[39m\u001b[39m.\u001b[39m_submesh_types, \u001b[39mself\u001b[39m\u001b[39m.\u001b[39m_var_pts)\n\u001b[1;32m    451\u001b[0m     \u001b[39mself\u001b[39m\u001b[39m.\u001b[39m_disc \u001b[39m=\u001b[39m pybamm\u001b[39m.\u001b[39mDiscretisation(\u001b[39mself\u001b[39m\u001b[39m.\u001b[39m_mesh, \u001b[39mself\u001b[39m\u001b[39m.\u001b[39m_spatial_methods)\n",
                        "File \u001b[0;32m~/Code/PyBaMM/pybamm/simulation.py:399\u001b[0m, in \u001b[0;36mSimulation.set_parameters\u001b[0;34m(self)\u001b[0m\n\u001b[1;32m    397\u001b[0m     \u001b[39mself\u001b[39m\u001b[39m.\u001b[39m_model_with_set_params \u001b[39m=\u001b[39m \u001b[39mself\u001b[39m\u001b[39m.\u001b[39m_unprocessed_model\n\u001b[1;32m    398\u001b[0m \u001b[39melse\u001b[39;00m:\n\u001b[0;32m--> 399\u001b[0m     \u001b[39mself\u001b[39m\u001b[39m.\u001b[39m_model_with_set_params \u001b[39m=\u001b[39m \u001b[39mself\u001b[39;49m\u001b[39m.\u001b[39;49m_parameter_values\u001b[39m.\u001b[39;49mprocess_model(\n\u001b[1;32m    400\u001b[0m         \u001b[39mself\u001b[39;49m\u001b[39m.\u001b[39;49m_unprocessed_model, inplace\u001b[39m=\u001b[39;49m\u001b[39mFalse\u001b[39;49;00m\n\u001b[1;32m    401\u001b[0m     )\n\u001b[1;32m    402\u001b[0m     \u001b[39mself\u001b[39m\u001b[39m.\u001b[39m_parameter_values\u001b[39m.\u001b[39mprocess_geometry(\u001b[39mself\u001b[39m\u001b[39m.\u001b[39mgeometry)\n\u001b[1;32m    403\u001b[0m \u001b[39mself\u001b[39m\u001b[39m.\u001b[39mmodel \u001b[39m=\u001b[39m \u001b[39mself\u001b[39m\u001b[39m.\u001b[39m_model_with_set_params\n",
                        "File \u001b[0;32m~/Code/PyBaMM/pybamm/parameters/parameter_values.py:465\u001b[0m, in \u001b[0;36mParameterValues.process_model\u001b[0;34m(self, unprocessed_model, inplace)\u001b[0m\n\u001b[1;32m    462\u001b[0m     new_initial_conditions[new_variable] \u001b[39m=\u001b[39m \u001b[39mself\u001b[39m\u001b[39m.\u001b[39mprocess_symbol(equation)\n\u001b[1;32m    463\u001b[0m model\u001b[39m.\u001b[39minitial_conditions \u001b[39m=\u001b[39m new_initial_conditions\n\u001b[0;32m--> 465\u001b[0m model\u001b[39m.\u001b[39mboundary_conditions \u001b[39m=\u001b[39m \u001b[39mself\u001b[39;49m\u001b[39m.\u001b[39;49mprocess_boundary_conditions(unprocessed_model)\n\u001b[1;32m    467\u001b[0m new_variables \u001b[39m=\u001b[39m {}\n\u001b[1;32m    468\u001b[0m \u001b[39mfor\u001b[39;00m variable, equation \u001b[39min\u001b[39;00m unprocessed_model\u001b[39m.\u001b[39mvariables\u001b[39m.\u001b[39mitems():\n",
                        "File \u001b[0;32m~/Code/PyBaMM/pybamm/parameters/parameter_values.py:541\u001b[0m, in \u001b[0;36mParameterValues.process_boundary_conditions\u001b[0;34m(self, model)\u001b[0m\n\u001b[1;32m    539\u001b[0m sides \u001b[39m=\u001b[39m [\u001b[39m\"\u001b[39m\u001b[39mleft\u001b[39m\u001b[39m\"\u001b[39m, \u001b[39m\"\u001b[39m\u001b[39mright\u001b[39m\u001b[39m\"\u001b[39m, \u001b[39m\"\u001b[39m\u001b[39mnegative tab\u001b[39m\u001b[39m\"\u001b[39m, \u001b[39m\"\u001b[39m\u001b[39mpositive tab\u001b[39m\u001b[39m\"\u001b[39m, \u001b[39m\"\u001b[39m\u001b[39mno tab\u001b[39m\u001b[39m\"\u001b[39m]\n\u001b[1;32m    540\u001b[0m \u001b[39mfor\u001b[39;00m variable, bcs \u001b[39min\u001b[39;00m model\u001b[39m.\u001b[39mboundary_conditions\u001b[39m.\u001b[39mitems():\n\u001b[0;32m--> 541\u001b[0m     processed_variable \u001b[39m=\u001b[39m \u001b[39mself\u001b[39;49m\u001b[39m.\u001b[39;49mprocess_symbol(variable)\n\u001b[1;32m    542\u001b[0m     new_boundary_conditions[processed_variable] \u001b[39m=\u001b[39m {}\n\u001b[1;32m    543\u001b[0m     \u001b[39mfor\u001b[39;00m side \u001b[39min\u001b[39;00m sides:\n",
                        "File \u001b[0;32m~/Code/PyBaMM/pybamm/parameters/parameter_values.py:611\u001b[0m, in \u001b[0;36mParameterValues.process_symbol\u001b[0;34m(self, symbol)\u001b[0m\n\u001b[1;32m    609\u001b[0m     \u001b[39mreturn\u001b[39;00m \u001b[39mself\u001b[39m\u001b[39m.\u001b[39m_processed_symbols[symbol]\n\u001b[1;32m    610\u001b[0m \u001b[39mexcept\u001b[39;00m \u001b[39mKeyError\u001b[39;00m:\n\u001b[0;32m--> 611\u001b[0m     processed_symbol \u001b[39m=\u001b[39m \u001b[39mself\u001b[39;49m\u001b[39m.\u001b[39;49m_process_symbol(symbol)\n\u001b[1;32m    612\u001b[0m     \u001b[39mself\u001b[39m\u001b[39m.\u001b[39m_processed_symbols[symbol] \u001b[39m=\u001b[39m processed_symbol\n\u001b[1;32m    614\u001b[0m     \u001b[39mreturn\u001b[39;00m processed_symbol\n",
                        "File \u001b[0;32m~/Code/PyBaMM/pybamm/parameters/parameter_values.py:731\u001b[0m, in \u001b[0;36mParameterValues._process_symbol\u001b[0;34m(self, symbol)\u001b[0m\n\u001b[1;32m    729\u001b[0m \u001b[39m# Unary operators\u001b[39;00m\n\u001b[1;32m    730\u001b[0m \u001b[39melif\u001b[39;00m \u001b[39misinstance\u001b[39m(symbol, pybamm\u001b[39m.\u001b[39mUnaryOperator):\n\u001b[0;32m--> 731\u001b[0m     new_child \u001b[39m=\u001b[39m \u001b[39mself\u001b[39;49m\u001b[39m.\u001b[39;49mprocess_symbol(symbol\u001b[39m.\u001b[39;49mchild)\n\u001b[1;32m    732\u001b[0m     new_symbol \u001b[39m=\u001b[39m symbol\u001b[39m.\u001b[39m_unary_new_copy(new_child)\n\u001b[1;32m    733\u001b[0m     \u001b[39m# ensure domain remains the same\u001b[39;00m\n",
                        "File \u001b[0;32m~/Code/PyBaMM/pybamm/parameters/parameter_values.py:611\u001b[0m, in \u001b[0;36mParameterValues.process_symbol\u001b[0;34m(self, symbol)\u001b[0m\n\u001b[1;32m    609\u001b[0m     \u001b[39mreturn\u001b[39;00m \u001b[39mself\u001b[39m\u001b[39m.\u001b[39m_processed_symbols[symbol]\n\u001b[1;32m    610\u001b[0m \u001b[39mexcept\u001b[39;00m \u001b[39mKeyError\u001b[39;00m:\n\u001b[0;32m--> 611\u001b[0m     processed_symbol \u001b[39m=\u001b[39m \u001b[39mself\u001b[39;49m\u001b[39m.\u001b[39;49m_process_symbol(symbol)\n\u001b[1;32m    612\u001b[0m     \u001b[39mself\u001b[39m\u001b[39m.\u001b[39m_processed_symbols[symbol] \u001b[39m=\u001b[39m processed_symbol\n\u001b[1;32m    614\u001b[0m     \u001b[39mreturn\u001b[39;00m processed_symbol\n",
                        "File \u001b[0;32m~/Code/PyBaMM/pybamm/parameters/parameter_values.py:722\u001b[0m, in \u001b[0;36mParameterValues._process_symbol\u001b[0;34m(self, symbol)\u001b[0m\n\u001b[1;32m    718\u001b[0m     \u001b[39mreturn\u001b[39;00m \u001b[39mself\u001b[39m\u001b[39m.\u001b[39mprocess_symbol(function_out)\n\u001b[1;32m    720\u001b[0m \u001b[39melif\u001b[39;00m \u001b[39misinstance\u001b[39m(symbol, pybamm\u001b[39m.\u001b[39mBinaryOperator):\n\u001b[1;32m    721\u001b[0m     \u001b[39m# process children\u001b[39;00m\n\u001b[0;32m--> 722\u001b[0m     new_left \u001b[39m=\u001b[39m \u001b[39mself\u001b[39;49m\u001b[39m.\u001b[39;49mprocess_symbol(symbol\u001b[39m.\u001b[39;49mleft)\n\u001b[1;32m    723\u001b[0m     new_right \u001b[39m=\u001b[39m \u001b[39mself\u001b[39m\u001b[39m.\u001b[39mprocess_symbol(symbol\u001b[39m.\u001b[39mright)\n\u001b[1;32m    724\u001b[0m     \u001b[39m# make new symbol, ensure domain remains the same\u001b[39;00m\n",
                        "File \u001b[0;32m~/Code/PyBaMM/pybamm/parameters/parameter_values.py:611\u001b[0m, in \u001b[0;36mParameterValues.process_symbol\u001b[0;34m(self, symbol)\u001b[0m\n\u001b[1;32m    609\u001b[0m     \u001b[39mreturn\u001b[39;00m \u001b[39mself\u001b[39m\u001b[39m.\u001b[39m_processed_symbols[symbol]\n\u001b[1;32m    610\u001b[0m \u001b[39mexcept\u001b[39;00m \u001b[39mKeyError\u001b[39;00m:\n\u001b[0;32m--> 611\u001b[0m     processed_symbol \u001b[39m=\u001b[39m \u001b[39mself\u001b[39;49m\u001b[39m.\u001b[39;49m_process_symbol(symbol)\n\u001b[1;32m    612\u001b[0m     \u001b[39mself\u001b[39m\u001b[39m.\u001b[39m_processed_symbols[symbol] \u001b[39m=\u001b[39m processed_symbol\n\u001b[1;32m    614\u001b[0m     \u001b[39mreturn\u001b[39;00m processed_symbol\n",
                        "File \u001b[0;32m~/Code/PyBaMM/pybamm/parameters/parameter_values.py:722\u001b[0m, in \u001b[0;36mParameterValues._process_symbol\u001b[0;34m(self, symbol)\u001b[0m\n\u001b[1;32m    718\u001b[0m     \u001b[39mreturn\u001b[39;00m \u001b[39mself\u001b[39m\u001b[39m.\u001b[39mprocess_symbol(function_out)\n\u001b[1;32m    720\u001b[0m \u001b[39melif\u001b[39;00m \u001b[39misinstance\u001b[39m(symbol, pybamm\u001b[39m.\u001b[39mBinaryOperator):\n\u001b[1;32m    721\u001b[0m     \u001b[39m# process children\u001b[39;00m\n\u001b[0;32m--> 722\u001b[0m     new_left \u001b[39m=\u001b[39m \u001b[39mself\u001b[39;49m\u001b[39m.\u001b[39;49mprocess_symbol(symbol\u001b[39m.\u001b[39;49mleft)\n\u001b[1;32m    723\u001b[0m     new_right \u001b[39m=\u001b[39m \u001b[39mself\u001b[39m\u001b[39m.\u001b[39mprocess_symbol(symbol\u001b[39m.\u001b[39mright)\n\u001b[1;32m    724\u001b[0m     \u001b[39m# make new symbol, ensure domain remains the same\u001b[39;00m\n",
                        "File \u001b[0;32m~/Code/PyBaMM/pybamm/parameters/parameter_values.py:611\u001b[0m, in \u001b[0;36mParameterValues.process_symbol\u001b[0;34m(self, symbol)\u001b[0m\n\u001b[1;32m    609\u001b[0m     \u001b[39mreturn\u001b[39;00m \u001b[39mself\u001b[39m\u001b[39m.\u001b[39m_processed_symbols[symbol]\n\u001b[1;32m    610\u001b[0m \u001b[39mexcept\u001b[39;00m \u001b[39mKeyError\u001b[39;00m:\n\u001b[0;32m--> 611\u001b[0m     processed_symbol \u001b[39m=\u001b[39m \u001b[39mself\u001b[39;49m\u001b[39m.\u001b[39;49m_process_symbol(symbol)\n\u001b[1;32m    612\u001b[0m     \u001b[39mself\u001b[39m\u001b[39m.\u001b[39m_processed_symbols[symbol] \u001b[39m=\u001b[39m processed_symbol\n\u001b[1;32m    614\u001b[0m     \u001b[39mreturn\u001b[39;00m processed_symbol\n",
                        "File \u001b[0;32m~/Code/PyBaMM/pybamm/parameters/parameter_values.py:723\u001b[0m, in \u001b[0;36mParameterValues._process_symbol\u001b[0;34m(self, symbol)\u001b[0m\n\u001b[1;32m    720\u001b[0m \u001b[39melif\u001b[39;00m \u001b[39misinstance\u001b[39m(symbol, pybamm\u001b[39m.\u001b[39mBinaryOperator):\n\u001b[1;32m    721\u001b[0m     \u001b[39m# process children\u001b[39;00m\n\u001b[1;32m    722\u001b[0m     new_left \u001b[39m=\u001b[39m \u001b[39mself\u001b[39m\u001b[39m.\u001b[39mprocess_symbol(symbol\u001b[39m.\u001b[39mleft)\n\u001b[0;32m--> 723\u001b[0m     new_right \u001b[39m=\u001b[39m \u001b[39mself\u001b[39;49m\u001b[39m.\u001b[39;49mprocess_symbol(symbol\u001b[39m.\u001b[39;49mright)\n\u001b[1;32m    724\u001b[0m     \u001b[39m# make new symbol, ensure domain remains the same\u001b[39;00m\n\u001b[1;32m    725\u001b[0m     new_symbol \u001b[39m=\u001b[39m symbol\u001b[39m.\u001b[39m_binary_new_copy(new_left, new_right)\n",
                        "File \u001b[0;32m~/Code/PyBaMM/pybamm/parameters/parameter_values.py:611\u001b[0m, in \u001b[0;36mParameterValues.process_symbol\u001b[0;34m(self, symbol)\u001b[0m\n\u001b[1;32m    609\u001b[0m     \u001b[39mreturn\u001b[39;00m \u001b[39mself\u001b[39m\u001b[39m.\u001b[39m_processed_symbols[symbol]\n\u001b[1;32m    610\u001b[0m \u001b[39mexcept\u001b[39;00m \u001b[39mKeyError\u001b[39;00m:\n\u001b[0;32m--> 611\u001b[0m     processed_symbol \u001b[39m=\u001b[39m \u001b[39mself\u001b[39;49m\u001b[39m.\u001b[39;49m_process_symbol(symbol)\n\u001b[1;32m    612\u001b[0m     \u001b[39mself\u001b[39m\u001b[39m.\u001b[39m_processed_symbols[symbol] \u001b[39m=\u001b[39m processed_symbol\n\u001b[1;32m    614\u001b[0m     \u001b[39mreturn\u001b[39;00m processed_symbol\n",
                        "File \u001b[0;32m~/Code/PyBaMM/pybamm/parameters/parameter_values.py:748\u001b[0m, in \u001b[0;36mParameterValues._process_symbol\u001b[0;34m(self, symbol)\u001b[0m\n\u001b[1;32m    746\u001b[0m \u001b[39m# Functions\u001b[39;00m\n\u001b[1;32m    747\u001b[0m \u001b[39melif\u001b[39;00m \u001b[39misinstance\u001b[39m(symbol, pybamm\u001b[39m.\u001b[39mFunction):\n\u001b[0;32m--> 748\u001b[0m     new_children \u001b[39m=\u001b[39m [\u001b[39mself\u001b[39m\u001b[39m.\u001b[39mprocess_symbol(child) \u001b[39mfor\u001b[39;00m child \u001b[39min\u001b[39;00m symbol\u001b[39m.\u001b[39mchildren]\n\u001b[1;32m    749\u001b[0m     \u001b[39mreturn\u001b[39;00m symbol\u001b[39m.\u001b[39m_function_new_copy(new_children)\n\u001b[1;32m    751\u001b[0m \u001b[39m# Concatenations\u001b[39;00m\n",
                        "File \u001b[0;32m~/Code/PyBaMM/pybamm/parameters/parameter_values.py:748\u001b[0m, in \u001b[0;36m<listcomp>\u001b[0;34m(.0)\u001b[0m\n\u001b[1;32m    746\u001b[0m \u001b[39m# Functions\u001b[39;00m\n\u001b[1;32m    747\u001b[0m \u001b[39melif\u001b[39;00m \u001b[39misinstance\u001b[39m(symbol, pybamm\u001b[39m.\u001b[39mFunction):\n\u001b[0;32m--> 748\u001b[0m     new_children \u001b[39m=\u001b[39m [\u001b[39mself\u001b[39;49m\u001b[39m.\u001b[39;49mprocess_symbol(child) \u001b[39mfor\u001b[39;00m child \u001b[39min\u001b[39;00m symbol\u001b[39m.\u001b[39mchildren]\n\u001b[1;32m    749\u001b[0m     \u001b[39mreturn\u001b[39;00m symbol\u001b[39m.\u001b[39m_function_new_copy(new_children)\n\u001b[1;32m    751\u001b[0m \u001b[39m# Concatenations\u001b[39;00m\n",
                        "File \u001b[0;32m~/Code/PyBaMM/pybamm/parameters/parameter_values.py:611\u001b[0m, in \u001b[0;36mParameterValues.process_symbol\u001b[0;34m(self, symbol)\u001b[0m\n\u001b[1;32m    609\u001b[0m     \u001b[39mreturn\u001b[39;00m \u001b[39mself\u001b[39m\u001b[39m.\u001b[39m_processed_symbols[symbol]\n\u001b[1;32m    610\u001b[0m \u001b[39mexcept\u001b[39;00m \u001b[39mKeyError\u001b[39;00m:\n\u001b[0;32m--> 611\u001b[0m     processed_symbol \u001b[39m=\u001b[39m \u001b[39mself\u001b[39;49m\u001b[39m.\u001b[39;49m_process_symbol(symbol)\n\u001b[1;32m    612\u001b[0m     \u001b[39mself\u001b[39m\u001b[39m.\u001b[39m_processed_symbols[symbol] \u001b[39m=\u001b[39m processed_symbol\n\u001b[1;32m    614\u001b[0m     \u001b[39mreturn\u001b[39;00m processed_symbol\n",
                        "File \u001b[0;32m~/Code/PyBaMM/pybamm/parameters/parameter_values.py:723\u001b[0m, in \u001b[0;36mParameterValues._process_symbol\u001b[0;34m(self, symbol)\u001b[0m\n\u001b[1;32m    720\u001b[0m \u001b[39melif\u001b[39;00m \u001b[39misinstance\u001b[39m(symbol, pybamm\u001b[39m.\u001b[39mBinaryOperator):\n\u001b[1;32m    721\u001b[0m     \u001b[39m# process children\u001b[39;00m\n\u001b[1;32m    722\u001b[0m     new_left \u001b[39m=\u001b[39m \u001b[39mself\u001b[39m\u001b[39m.\u001b[39mprocess_symbol(symbol\u001b[39m.\u001b[39mleft)\n\u001b[0;32m--> 723\u001b[0m     new_right \u001b[39m=\u001b[39m \u001b[39mself\u001b[39;49m\u001b[39m.\u001b[39;49mprocess_symbol(symbol\u001b[39m.\u001b[39;49mright)\n\u001b[1;32m    724\u001b[0m     \u001b[39m# make new symbol, ensure domain remains the same\u001b[39;00m\n\u001b[1;32m    725\u001b[0m     new_symbol \u001b[39m=\u001b[39m symbol\u001b[39m.\u001b[39m_binary_new_copy(new_left, new_right)\n",
                        "File \u001b[0;32m~/Code/PyBaMM/pybamm/parameters/parameter_values.py:611\u001b[0m, in \u001b[0;36mParameterValues.process_symbol\u001b[0;34m(self, symbol)\u001b[0m\n\u001b[1;32m    609\u001b[0m     \u001b[39mreturn\u001b[39;00m \u001b[39mself\u001b[39m\u001b[39m.\u001b[39m_processed_symbols[symbol]\n\u001b[1;32m    610\u001b[0m \u001b[39mexcept\u001b[39;00m \u001b[39mKeyError\u001b[39;00m:\n\u001b[0;32m--> 611\u001b[0m     processed_symbol \u001b[39m=\u001b[39m \u001b[39mself\u001b[39;49m\u001b[39m.\u001b[39;49m_process_symbol(symbol)\n\u001b[1;32m    612\u001b[0m     \u001b[39mself\u001b[39m\u001b[39m.\u001b[39m_processed_symbols[symbol] \u001b[39m=\u001b[39m processed_symbol\n\u001b[1;32m    614\u001b[0m     \u001b[39mreturn\u001b[39;00m processed_symbol\n",
                        "File \u001b[0;32m~/Code/PyBaMM/pybamm/parameters/parameter_values.py:723\u001b[0m, in \u001b[0;36mParameterValues._process_symbol\u001b[0;34m(self, symbol)\u001b[0m\n\u001b[1;32m    720\u001b[0m \u001b[39melif\u001b[39;00m \u001b[39misinstance\u001b[39m(symbol, pybamm\u001b[39m.\u001b[39mBinaryOperator):\n\u001b[1;32m    721\u001b[0m     \u001b[39m# process children\u001b[39;00m\n\u001b[1;32m    722\u001b[0m     new_left \u001b[39m=\u001b[39m \u001b[39mself\u001b[39m\u001b[39m.\u001b[39mprocess_symbol(symbol\u001b[39m.\u001b[39mleft)\n\u001b[0;32m--> 723\u001b[0m     new_right \u001b[39m=\u001b[39m \u001b[39mself\u001b[39;49m\u001b[39m.\u001b[39;49mprocess_symbol(symbol\u001b[39m.\u001b[39;49mright)\n\u001b[1;32m    724\u001b[0m     \u001b[39m# make new symbol, ensure domain remains the same\u001b[39;00m\n\u001b[1;32m    725\u001b[0m     new_symbol \u001b[39m=\u001b[39m symbol\u001b[39m.\u001b[39m_binary_new_copy(new_left, new_right)\n",
                        "File \u001b[0;32m~/Code/PyBaMM/pybamm/parameters/parameter_values.py:611\u001b[0m, in \u001b[0;36mParameterValues.process_symbol\u001b[0;34m(self, symbol)\u001b[0m\n\u001b[1;32m    609\u001b[0m     \u001b[39mreturn\u001b[39;00m \u001b[39mself\u001b[39m\u001b[39m.\u001b[39m_processed_symbols[symbol]\n\u001b[1;32m    610\u001b[0m \u001b[39mexcept\u001b[39;00m \u001b[39mKeyError\u001b[39;00m:\n\u001b[0;32m--> 611\u001b[0m     processed_symbol \u001b[39m=\u001b[39m \u001b[39mself\u001b[39;49m\u001b[39m.\u001b[39;49m_process_symbol(symbol)\n\u001b[1;32m    612\u001b[0m     \u001b[39mself\u001b[39m\u001b[39m.\u001b[39m_processed_symbols[symbol] \u001b[39m=\u001b[39m processed_symbol\n\u001b[1;32m    614\u001b[0m     \u001b[39mreturn\u001b[39;00m processed_symbol\n",
                        "File \u001b[0;32m~/Code/PyBaMM/pybamm/parameters/parameter_values.py:657\u001b[0m, in \u001b[0;36mParameterValues._process_symbol\u001b[0;34m(self, symbol)\u001b[0m\n\u001b[1;32m    655\u001b[0m             new_children\u001b[39m.\u001b[39mappend(\u001b[39mself\u001b[39m\u001b[39m.\u001b[39mprocess_symbol(new_child))\n\u001b[1;32m    656\u001b[0m         \u001b[39melse\u001b[39;00m:\n\u001b[0;32m--> 657\u001b[0m             new_children\u001b[39m.\u001b[39mappend(\u001b[39mself\u001b[39;49m\u001b[39m.\u001b[39;49mprocess_symbol(child))\n\u001b[1;32m    659\u001b[0m \u001b[39m# Create Function or Interpolant or Scalar object\u001b[39;00m\n\u001b[1;32m    660\u001b[0m \u001b[39mif\u001b[39;00m \u001b[39misinstance\u001b[39m(function_name, \u001b[39mtuple\u001b[39m):\n",
                        "File \u001b[0;32m~/Code/PyBaMM/pybamm/parameters/parameter_values.py:611\u001b[0m, in \u001b[0;36mParameterValues.process_symbol\u001b[0;34m(self, symbol)\u001b[0m\n\u001b[1;32m    609\u001b[0m     \u001b[39mreturn\u001b[39;00m \u001b[39mself\u001b[39m\u001b[39m.\u001b[39m_processed_symbols[symbol]\n\u001b[1;32m    610\u001b[0m \u001b[39mexcept\u001b[39;00m \u001b[39mKeyError\u001b[39;00m:\n\u001b[0;32m--> 611\u001b[0m     processed_symbol \u001b[39m=\u001b[39m \u001b[39mself\u001b[39;49m\u001b[39m.\u001b[39;49m_process_symbol(symbol)\n\u001b[1;32m    612\u001b[0m     \u001b[39mself\u001b[39m\u001b[39m.\u001b[39m_processed_symbols[symbol] \u001b[39m=\u001b[39m processed_symbol\n\u001b[1;32m    614\u001b[0m     \u001b[39mreturn\u001b[39;00m processed_symbol\n",
                        "File \u001b[0;32m~/Code/PyBaMM/pybamm/parameters/parameter_values.py:722\u001b[0m, in \u001b[0;36mParameterValues._process_symbol\u001b[0;34m(self, symbol)\u001b[0m\n\u001b[1;32m    718\u001b[0m     \u001b[39mreturn\u001b[39;00m \u001b[39mself\u001b[39m\u001b[39m.\u001b[39mprocess_symbol(function_out)\n\u001b[1;32m    720\u001b[0m \u001b[39melif\u001b[39;00m \u001b[39misinstance\u001b[39m(symbol, pybamm\u001b[39m.\u001b[39mBinaryOperator):\n\u001b[1;32m    721\u001b[0m     \u001b[39m# process children\u001b[39;00m\n\u001b[0;32m--> 722\u001b[0m     new_left \u001b[39m=\u001b[39m \u001b[39mself\u001b[39;49m\u001b[39m.\u001b[39;49mprocess_symbol(symbol\u001b[39m.\u001b[39;49mleft)\n\u001b[1;32m    723\u001b[0m     new_right \u001b[39m=\u001b[39m \u001b[39mself\u001b[39m\u001b[39m.\u001b[39mprocess_symbol(symbol\u001b[39m.\u001b[39mright)\n\u001b[1;32m    724\u001b[0m     \u001b[39m# make new symbol, ensure domain remains the same\u001b[39;00m\n",
                        "File \u001b[0;32m~/Code/PyBaMM/pybamm/parameters/parameter_values.py:611\u001b[0m, in \u001b[0;36mParameterValues.process_symbol\u001b[0;34m(self, symbol)\u001b[0m\n\u001b[1;32m    609\u001b[0m     \u001b[39mreturn\u001b[39;00m \u001b[39mself\u001b[39m\u001b[39m.\u001b[39m_processed_symbols[symbol]\n\u001b[1;32m    610\u001b[0m \u001b[39mexcept\u001b[39;00m \u001b[39mKeyError\u001b[39;00m:\n\u001b[0;32m--> 611\u001b[0m     processed_symbol \u001b[39m=\u001b[39m \u001b[39mself\u001b[39;49m\u001b[39m.\u001b[39;49m_process_symbol(symbol)\n\u001b[1;32m    612\u001b[0m     \u001b[39mself\u001b[39m\u001b[39m.\u001b[39m_processed_symbols[symbol] \u001b[39m=\u001b[39m processed_symbol\n\u001b[1;32m    614\u001b[0m     \u001b[39mreturn\u001b[39;00m processed_symbol\n",
                        "File \u001b[0;32m~/Code/PyBaMM/pybamm/parameters/parameter_values.py:620\u001b[0m, in \u001b[0;36mParameterValues._process_symbol\u001b[0;34m(self, symbol)\u001b[0m\n\u001b[1;32m    617\u001b[0m \u001b[39m\u001b[39m\u001b[39m\"\"\"See :meth:`ParameterValues.process_symbol()`.\"\"\"\u001b[39;00m\n\u001b[1;32m    619\u001b[0m \u001b[39mif\u001b[39;00m \u001b[39misinstance\u001b[39m(symbol, pybamm\u001b[39m.\u001b[39mParameter):\n\u001b[0;32m--> 620\u001b[0m     value \u001b[39m=\u001b[39m \u001b[39mself\u001b[39;49m[symbol\u001b[39m.\u001b[39;49mname]\n\u001b[1;32m    621\u001b[0m     \u001b[39mif\u001b[39;00m \u001b[39misinstance\u001b[39m(value, numbers\u001b[39m.\u001b[39mNumber):\n\u001b[1;32m    622\u001b[0m         \u001b[39m# Check not NaN (parameter in csv file but no value given)\u001b[39;00m\n\u001b[1;32m    623\u001b[0m         \u001b[39mif\u001b[39;00m np\u001b[39m.\u001b[39misnan(value):\n",
                        "File \u001b[0;32m~/Code/PyBaMM/pybamm/parameters/parameter_values.py:139\u001b[0m, in \u001b[0;36mParameterValues.__getitem__\u001b[0;34m(self, key)\u001b[0m\n\u001b[1;32m    138\u001b[0m \u001b[39mdef\u001b[39;00m \u001b[39m__getitem__\u001b[39m(\u001b[39mself\u001b[39m, key):\n\u001b[0;32m--> 139\u001b[0m     \u001b[39mreturn\u001b[39;00m \u001b[39mself\u001b[39;49m\u001b[39m.\u001b[39;49m_dict_items[key]\n",
                        "File \u001b[0;32m~/Code/PyBaMM/pybamm/util.py:73\u001b[0m, in \u001b[0;36mFuzzyDict.__getitem__\u001b[0;34m(self, key)\u001b[0m\n\u001b[1;32m     69\u001b[0m     \u001b[39mif\u001b[39;00m key \u001b[39min\u001b[39;00m k \u001b[39mand\u001b[39;00m k\u001b[39m.\u001b[39mendswith(\u001b[39m\"\u001b[39m\u001b[39m]\u001b[39m\u001b[39m\"\u001b[39m):\n\u001b[1;32m     70\u001b[0m         \u001b[39mraise\u001b[39;00m \u001b[39mKeyError\u001b[39;00m(\n\u001b[1;32m     71\u001b[0m             \u001b[39mf\u001b[39m\u001b[39m\"\u001b[39m\u001b[39m'\u001b[39m\u001b[39m{\u001b[39;00mkey\u001b[39m}\u001b[39;00m\u001b[39m'\u001b[39m\u001b[39m not found. Use the dimensional version \u001b[39m\u001b[39m'\u001b[39m\u001b[39m{\u001b[39;00mk\u001b[39m}\u001b[39;00m\u001b[39m'\u001b[39m\u001b[39m instead.\u001b[39m\u001b[39m\"\u001b[39m\n\u001b[1;32m     72\u001b[0m         )\n\u001b[0;32m---> 73\u001b[0m \u001b[39mraise\u001b[39;00m \u001b[39mKeyError\u001b[39;00m(\u001b[39mf\u001b[39m\u001b[39m\"\u001b[39m\u001b[39m'\u001b[39m\u001b[39m{\u001b[39;00mkey\u001b[39m}\u001b[39;00m\u001b[39m'\u001b[39m\u001b[39m not found. Best matches are \u001b[39m\u001b[39m{\u001b[39;00mbest_matches\u001b[39m}\u001b[39;00m\u001b[39m\"\u001b[39m)\n",
                        "\u001b[0;31mKeyError\u001b[0m: \"'Initial concentration in electrolyte [mol.m-3]' not found. Best matches are ['Initial concentration in positive electrode [mol.m-3]', 'Initial concentration in negative electrode [mol.m-3]', 'Maximum concentration in positive electrode [mol.m-3]']\""
                    ]
                }
            ],
            "source": [
                "sim = pybamm.Simulation(spm, parameter_values=param)\n",
                "t_eval = np.arange(0, 3600, 1)\n",
                "sim.solve(t_eval=t_eval)\n",
                "sim.plot()"
            ]
        },
        {
            "attachments": {},
            "cell_type": "markdown",
            "metadata": {},
            "source": [
                "## References\n",
                "The relevant papers for this notebook are:"
            ]
        },
        {
            "cell_type": "code",
            "execution_count": 23,
            "metadata": {},
            "outputs": [
                {
                    "name": "stdout",
                    "output_type": "stream",
                    "text": [
                        "[1] Joel A. E. Andersson, Joris Gillis, Greg Horn, James B. Rawlings, and Moritz Diehl. CasADi – A software framework for nonlinear optimization and optimal control. Mathematical Programming Computation, 11(1):1–36, 2019. doi:10.1007/s12532-018-0139-4.\n",
                        "[2] Chang-Hui Chen, Ferran Brosa Planella, Kieran O'Regan, Dominika Gastol, W. Dhammika Widanage, and Emma Kendrick. Development of Experimental Techniques for Parameterization of Multi-scale Lithium-ion Battery Models. Journal of The Electrochemical Society, 167(8):080534, 2020. doi:10.1149/1945-7111/ab9050.\n",
                        "[3] Charles R. Harris, K. Jarrod Millman, Stéfan J. van der Walt, Ralf Gommers, Pauli Virtanen, David Cournapeau, Eric Wieser, Julian Taylor, Sebastian Berg, Nathaniel J. Smith, and others. Array programming with NumPy. Nature, 585(7825):357–362, 2020. doi:10.1038/s41586-020-2649-2.\n",
                        "[4] Scott G. Marquis, Valentin Sulzer, Robert Timms, Colin P. Please, and S. Jon Chapman. An asymptotic derivation of a single particle model with electrolyte. Journal of The Electrochemical Society, 166(15):A3693–A3706, 2019. doi:10.1149/2.0341915jes.\n",
                        "[5] Valentin Sulzer, Scott G. Marquis, Robert Timms, Martin Robinson, and S. Jon Chapman. Python Battery Mathematical Modelling (PyBaMM). Journal of Open Research Software, 9(1):14, 2021. doi:10.5334/jors.309.\n",
                        "[6] Pauli Virtanen, Ralf Gommers, Travis E. Oliphant, Matt Haberland, Tyler Reddy, David Cournapeau, Evgeni Burovski, Pearu Peterson, Warren Weckesser, Jonathan Bright, and others. SciPy 1.0: fundamental algorithms for scientific computing in Python. Nature Methods, 17(3):261–272, 2020. doi:10.1038/s41592-019-0686-2.\n",
                        "\n"
                    ]
                }
            ],
            "source": [
                "pybamm.print_citations()"
            ]
        }
    ],
    "metadata": {
        "kernelspec": {
            "display_name": "pybamm",
            "language": "python",
            "name": "python3"
        },
        "language_info": {
            "codemirror_mode": {
                "name": "ipython",
                "version": 3
            },
            "file_extension": ".py",
            "mimetype": "text/x-python",
            "name": "python",
            "nbconvert_exporter": "python",
            "pygments_lexer": "ipython3",
            "version": "3.9.16"
        },
        "toc": {
            "base_numbering": 1,
            "nav_menu": {},
            "number_sections": true,
            "sideBar": true,
            "skip_h1_title": false,
            "title_cell": "Table of Contents",
            "title_sidebar": "Contents",
            "toc_cell": false,
            "toc_position": {},
            "toc_section_display": true,
            "toc_window_display": true
        },
        "vscode": {
            "interpreter": {
                "hash": "187972e187ab8dfbecfab9e8e194ae6d08262b2d51a54fa40644e3ddb6b5f74c"
            }
        }
    },
    "nbformat": 4,
    "nbformat_minor": 2
}
